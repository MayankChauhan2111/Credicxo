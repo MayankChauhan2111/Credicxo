{
  "nbformat": 4,
  "nbformat_minor": 0,
  "metadata": {
    "colab": {
      "name": "Credicxo Task II.ipynb",
      "provenance": []
    },
    "kernelspec": {
      "name": "python3",
      "display_name": "Python 3"
    },
    "language_info": {
      "name": "python"
    }
  },
  "cells": [
    {
      "cell_type": "code",
      "execution_count": null,
      "metadata": {
        "id": "RXPgQ9Ry5RYM"
      },
      "outputs": [],
      "source": [
        "import pandas as pd\n",
        "import requests\n",
        "from bs4 import BeautifulSoup\n",
        "from requests.models import HTTPError\n",
        "import time"
      ]
    },
    {
      "cell_type": "code",
      "source": [
        "from google.colab import drive\n",
        "drive.mount('/content/gdrive')"
      ],
      "metadata": {
        "colab": {
          "base_uri": "https://localhost:8080/"
        },
        "id": "SgcckB1g5WN_",
        "outputId": "413bd6d6-8053-449c-fa1a-ad15384d328e"
      },
      "execution_count": null,
      "outputs": [
        {
          "output_type": "stream",
          "name": "stdout",
          "text": [
            "Mounted at /content/gdrive\n"
          ]
        }
      ]
    },
    {
      "cell_type": "code",
      "source": [
        "%cd /content/gdrive/My Drive/Internshala"
      ],
      "metadata": {
        "colab": {
          "base_uri": "https://localhost:8080/"
        },
        "id": "It5afhK15X1y",
        "outputId": "5468039d-7090-482c-987f-1eeaad8ddb31"
      },
      "execution_count": null,
      "outputs": [
        {
          "output_type": "stream",
          "name": "stdout",
          "text": [
            "/content/gdrive/My Drive/Internshala\n"
          ]
        }
      ]
    },
    {
      "cell_type": "code",
      "source": [
        "df = pd.read_csv(\"amazonScraping.csv\")"
      ],
      "metadata": {
        "id": "iNuSexdx5bx5"
      },
      "execution_count": null,
      "outputs": []
    },
    {
      "cell_type": "code",
      "source": [
        "df = df[['Asin', 'country']]"
      ],
      "metadata": {
        "id": "i5TdAXqg5dbN"
      },
      "execution_count": null,
      "outputs": []
    },
    {
      "cell_type": "code",
      "source": [
        "df.head()"
      ],
      "metadata": {
        "colab": {
          "base_uri": "https://localhost:8080/",
          "height": 206
        },
        "id": "33Y5kWxC5e0O",
        "outputId": "120821d8-f6d6-4dd7-f301-55fd6c5305f1"
      },
      "execution_count": null,
      "outputs": [
        {
          "output_type": "execute_result",
          "data": {
            "text/html": [
              "\n",
              "  <div id=\"df-d29d45f6-adc5-4276-a46c-3b50d911acb8\">\n",
              "    <div class=\"colab-df-container\">\n",
              "      <div>\n",
              "<style scoped>\n",
              "    .dataframe tbody tr th:only-of-type {\n",
              "        vertical-align: middle;\n",
              "    }\n",
              "\n",
              "    .dataframe tbody tr th {\n",
              "        vertical-align: top;\n",
              "    }\n",
              "\n",
              "    .dataframe thead th {\n",
              "        text-align: right;\n",
              "    }\n",
              "</style>\n",
              "<table border=\"1\" class=\"dataframe\">\n",
              "  <thead>\n",
              "    <tr style=\"text-align: right;\">\n",
              "      <th></th>\n",
              "      <th>Asin</th>\n",
              "      <th>country</th>\n",
              "    </tr>\n",
              "  </thead>\n",
              "  <tbody>\n",
              "    <tr>\n",
              "      <th>0</th>\n",
              "      <td>1015</td>\n",
              "      <td>de</td>\n",
              "    </tr>\n",
              "    <tr>\n",
              "      <th>1</th>\n",
              "      <td>1015</td>\n",
              "      <td>fr</td>\n",
              "    </tr>\n",
              "    <tr>\n",
              "      <th>2</th>\n",
              "      <td>000004458X</td>\n",
              "      <td>de</td>\n",
              "    </tr>\n",
              "    <tr>\n",
              "      <th>3</th>\n",
              "      <td>000004458X</td>\n",
              "      <td>fr</td>\n",
              "    </tr>\n",
              "    <tr>\n",
              "      <th>4</th>\n",
              "      <td>1002198</td>\n",
              "      <td>de</td>\n",
              "    </tr>\n",
              "  </tbody>\n",
              "</table>\n",
              "</div>\n",
              "      <button class=\"colab-df-convert\" onclick=\"convertToInteractive('df-d29d45f6-adc5-4276-a46c-3b50d911acb8')\"\n",
              "              title=\"Convert this dataframe to an interactive table.\"\n",
              "              style=\"display:none;\">\n",
              "        \n",
              "  <svg xmlns=\"http://www.w3.org/2000/svg\" height=\"24px\"viewBox=\"0 0 24 24\"\n",
              "       width=\"24px\">\n",
              "    <path d=\"M0 0h24v24H0V0z\" fill=\"none\"/>\n",
              "    <path d=\"M18.56 5.44l.94 2.06.94-2.06 2.06-.94-2.06-.94-.94-2.06-.94 2.06-2.06.94zm-11 1L8.5 8.5l.94-2.06 2.06-.94-2.06-.94L8.5 2.5l-.94 2.06-2.06.94zm10 10l.94 2.06.94-2.06 2.06-.94-2.06-.94-.94-2.06-.94 2.06-2.06.94z\"/><path d=\"M17.41 7.96l-1.37-1.37c-.4-.4-.92-.59-1.43-.59-.52 0-1.04.2-1.43.59L10.3 9.45l-7.72 7.72c-.78.78-.78 2.05 0 2.83L4 21.41c.39.39.9.59 1.41.59.51 0 1.02-.2 1.41-.59l7.78-7.78 2.81-2.81c.8-.78.8-2.07 0-2.86zM5.41 20L4 18.59l7.72-7.72 1.47 1.35L5.41 20z\"/>\n",
              "  </svg>\n",
              "      </button>\n",
              "      \n",
              "  <style>\n",
              "    .colab-df-container {\n",
              "      display:flex;\n",
              "      flex-wrap:wrap;\n",
              "      gap: 12px;\n",
              "    }\n",
              "\n",
              "    .colab-df-convert {\n",
              "      background-color: #E8F0FE;\n",
              "      border: none;\n",
              "      border-radius: 50%;\n",
              "      cursor: pointer;\n",
              "      display: none;\n",
              "      fill: #1967D2;\n",
              "      height: 32px;\n",
              "      padding: 0 0 0 0;\n",
              "      width: 32px;\n",
              "    }\n",
              "\n",
              "    .colab-df-convert:hover {\n",
              "      background-color: #E2EBFA;\n",
              "      box-shadow: 0px 1px 2px rgba(60, 64, 67, 0.3), 0px 1px 3px 1px rgba(60, 64, 67, 0.15);\n",
              "      fill: #174EA6;\n",
              "    }\n",
              "\n",
              "    [theme=dark] .colab-df-convert {\n",
              "      background-color: #3B4455;\n",
              "      fill: #D2E3FC;\n",
              "    }\n",
              "\n",
              "    [theme=dark] .colab-df-convert:hover {\n",
              "      background-color: #434B5C;\n",
              "      box-shadow: 0px 1px 3px 1px rgba(0, 0, 0, 0.15);\n",
              "      filter: drop-shadow(0px 1px 2px rgba(0, 0, 0, 0.3));\n",
              "      fill: #FFFFFF;\n",
              "    }\n",
              "  </style>\n",
              "\n",
              "      <script>\n",
              "        const buttonEl =\n",
              "          document.querySelector('#df-d29d45f6-adc5-4276-a46c-3b50d911acb8 button.colab-df-convert');\n",
              "        buttonEl.style.display =\n",
              "          google.colab.kernel.accessAllowed ? 'block' : 'none';\n",
              "\n",
              "        async function convertToInteractive(key) {\n",
              "          const element = document.querySelector('#df-d29d45f6-adc5-4276-a46c-3b50d911acb8');\n",
              "          const dataTable =\n",
              "            await google.colab.kernel.invokeFunction('convertToInteractive',\n",
              "                                                     [key], {});\n",
              "          if (!dataTable) return;\n",
              "\n",
              "          const docLinkHtml = 'Like what you see? Visit the ' +\n",
              "            '<a target=\"_blank\" href=https://colab.research.google.com/notebooks/data_table.ipynb>data table notebook</a>'\n",
              "            + ' to learn more about interactive tables.';\n",
              "          element.innerHTML = '';\n",
              "          dataTable['output_type'] = 'display_data';\n",
              "          await google.colab.output.renderOutput(dataTable, element);\n",
              "          const docLink = document.createElement('div');\n",
              "          docLink.innerHTML = docLinkHtml;\n",
              "          element.appendChild(docLink);\n",
              "        }\n",
              "      </script>\n",
              "    </div>\n",
              "  </div>\n",
              "  "
            ],
            "text/plain": [
              "         Asin country\n",
              "0        1015      de\n",
              "1        1015      fr\n",
              "2  000004458X      de\n",
              "3  000004458X      fr\n",
              "4     1002198      de"
            ]
          },
          "metadata": {},
          "execution_count": 6
        }
      ]
    },
    {
      "cell_type": "code",
      "source": [
        "session = requests.session()\n",
        "session.proxies = {}\n",
        "session.proxies['http'] = 'socks5://localhost:9150' #9150 for browser; 9050 for TOR service\n",
        "session.proxies['https'] = 'socks5://localhost:9150'"
      ],
      "metadata": {
        "id": "56xFD7bQ5f6E"
      },
      "execution_count": null,
      "outputs": []
    },
    {
      "cell_type": "code",
      "source": [
        "#!pip install stem"
      ],
      "metadata": {
        "colab": {
          "base_uri": "https://localhost:8080/"
        },
        "id": "Bfd9guvH5uty",
        "outputId": "05721e59-07b8-4315-b1cc-3e1debce4fe9"
      },
      "execution_count": null,
      "outputs": [
        {
          "output_type": "stream",
          "name": "stdout",
          "text": [
            "Collecting stem\n",
            "  Downloading stem-1.8.0.tar.gz (2.9 MB)\n",
            "\u001b[?25l\r\u001b[K     |▏                               | 10 kB 23.1 MB/s eta 0:00:01\r\u001b[K     |▎                               | 20 kB 25.5 MB/s eta 0:00:01\r\u001b[K     |▍                               | 30 kB 30.3 MB/s eta 0:00:01\r\u001b[K     |▌                               | 40 kB 33.3 MB/s eta 0:00:01\r\u001b[K     |▋                               | 51 kB 30.5 MB/s eta 0:00:01\r\u001b[K     |▊                               | 61 kB 33.4 MB/s eta 0:00:01\r\u001b[K     |▉                               | 71 kB 30.6 MB/s eta 0:00:01\r\u001b[K     |█                               | 81 kB 28.4 MB/s eta 0:00:01\r\u001b[K     |█                               | 92 kB 30.2 MB/s eta 0:00:01\r\u001b[K     |█▏                              | 102 kB 31.6 MB/s eta 0:00:01\r\u001b[K     |█▎                              | 112 kB 31.6 MB/s eta 0:00:01\r\u001b[K     |█▍                              | 122 kB 31.6 MB/s eta 0:00:01\r\u001b[K     |█▌                              | 133 kB 31.6 MB/s eta 0:00:01\r\u001b[K     |█▋                              | 143 kB 31.6 MB/s eta 0:00:01\r\u001b[K     |█▊                              | 153 kB 31.6 MB/s eta 0:00:01\r\u001b[K     |█▉                              | 163 kB 31.6 MB/s eta 0:00:01\r\u001b[K     |██                              | 174 kB 31.6 MB/s eta 0:00:01\r\u001b[K     |██                              | 184 kB 31.6 MB/s eta 0:00:01\r\u001b[K     |██▏                             | 194 kB 31.6 MB/s eta 0:00:01\r\u001b[K     |██▎                             | 204 kB 31.6 MB/s eta 0:00:01\r\u001b[K     |██▍                             | 215 kB 31.6 MB/s eta 0:00:01\r\u001b[K     |██▌                             | 225 kB 31.6 MB/s eta 0:00:01\r\u001b[K     |██▋                             | 235 kB 31.6 MB/s eta 0:00:01\r\u001b[K     |██▊                             | 245 kB 31.6 MB/s eta 0:00:01\r\u001b[K     |██▉                             | 256 kB 31.6 MB/s eta 0:00:01\r\u001b[K     |███                             | 266 kB 31.6 MB/s eta 0:00:01\r\u001b[K     |███                             | 276 kB 31.6 MB/s eta 0:00:01\r\u001b[K     |███▏                            | 286 kB 31.6 MB/s eta 0:00:01\r\u001b[K     |███▎                            | 296 kB 31.6 MB/s eta 0:00:01\r\u001b[K     |███▌                            | 307 kB 31.6 MB/s eta 0:00:01\r\u001b[K     |███▋                            | 317 kB 31.6 MB/s eta 0:00:01\r\u001b[K     |███▊                            | 327 kB 31.6 MB/s eta 0:00:01\r\u001b[K     |███▉                            | 337 kB 31.6 MB/s eta 0:00:01\r\u001b[K     |████                            | 348 kB 31.6 MB/s eta 0:00:01\r\u001b[K     |████                            | 358 kB 31.6 MB/s eta 0:00:01\r\u001b[K     |████▏                           | 368 kB 31.6 MB/s eta 0:00:01\r\u001b[K     |████▎                           | 378 kB 31.6 MB/s eta 0:00:01\r\u001b[K     |████▍                           | 389 kB 31.6 MB/s eta 0:00:01\r\u001b[K     |████▌                           | 399 kB 31.6 MB/s eta 0:00:01\r\u001b[K     |████▋                           | 409 kB 31.6 MB/s eta 0:00:01\r\u001b[K     |████▊                           | 419 kB 31.6 MB/s eta 0:00:01\r\u001b[K     |████▉                           | 430 kB 31.6 MB/s eta 0:00:01\r\u001b[K     |█████                           | 440 kB 31.6 MB/s eta 0:00:01\r\u001b[K     |█████                           | 450 kB 31.6 MB/s eta 0:00:01\r\u001b[K     |█████▏                          | 460 kB 31.6 MB/s eta 0:00:01\r\u001b[K     |█████▎                          | 471 kB 31.6 MB/s eta 0:00:01\r\u001b[K     |█████▍                          | 481 kB 31.6 MB/s eta 0:00:01\r\u001b[K     |█████▌                          | 491 kB 31.6 MB/s eta 0:00:01\r\u001b[K     |█████▋                          | 501 kB 31.6 MB/s eta 0:00:01\r\u001b[K     |█████▊                          | 512 kB 31.6 MB/s eta 0:00:01\r\u001b[K     |█████▉                          | 522 kB 31.6 MB/s eta 0:00:01\r\u001b[K     |██████                          | 532 kB 31.6 MB/s eta 0:00:01\r\u001b[K     |██████                          | 542 kB 31.6 MB/s eta 0:00:01\r\u001b[K     |██████▏                         | 552 kB 31.6 MB/s eta 0:00:01\r\u001b[K     |██████▎                         | 563 kB 31.6 MB/s eta 0:00:01\r\u001b[K     |██████▍                         | 573 kB 31.6 MB/s eta 0:00:01\r\u001b[K     |██████▌                         | 583 kB 31.6 MB/s eta 0:00:01\r\u001b[K     |██████▋                         | 593 kB 31.6 MB/s eta 0:00:01\r\u001b[K     |██████▊                         | 604 kB 31.6 MB/s eta 0:00:01\r\u001b[K     |███████                         | 614 kB 31.6 MB/s eta 0:00:01\r\u001b[K     |███████                         | 624 kB 31.6 MB/s eta 0:00:01\r\u001b[K     |███████▏                        | 634 kB 31.6 MB/s eta 0:00:01\r\u001b[K     |███████▎                        | 645 kB 31.6 MB/s eta 0:00:01\r\u001b[K     |███████▍                        | 655 kB 31.6 MB/s eta 0:00:01\r\u001b[K     |███████▌                        | 665 kB 31.6 MB/s eta 0:00:01\r\u001b[K     |███████▋                        | 675 kB 31.6 MB/s eta 0:00:01\r\u001b[K     |███████▊                        | 686 kB 31.6 MB/s eta 0:00:01\r\u001b[K     |███████▉                        | 696 kB 31.6 MB/s eta 0:00:01\r\u001b[K     |████████                        | 706 kB 31.6 MB/s eta 0:00:01\r\u001b[K     |████████                        | 716 kB 31.6 MB/s eta 0:00:01\r\u001b[K     |████████▏                       | 727 kB 31.6 MB/s eta 0:00:01\r\u001b[K     |████████▎                       | 737 kB 31.6 MB/s eta 0:00:01\r\u001b[K     |████████▍                       | 747 kB 31.6 MB/s eta 0:00:01\r\u001b[K     |████████▌                       | 757 kB 31.6 MB/s eta 0:00:01\r\u001b[K     |████████▋                       | 768 kB 31.6 MB/s eta 0:00:01\r\u001b[K     |████████▊                       | 778 kB 31.6 MB/s eta 0:00:01\r\u001b[K     |████████▉                       | 788 kB 31.6 MB/s eta 0:00:01\r\u001b[K     |█████████                       | 798 kB 31.6 MB/s eta 0:00:01\r\u001b[K     |█████████                       | 808 kB 31.6 MB/s eta 0:00:01\r\u001b[K     |█████████▏                      | 819 kB 31.6 MB/s eta 0:00:01\r\u001b[K     |█████████▎                      | 829 kB 31.6 MB/s eta 0:00:01\r\u001b[K     |█████████▍                      | 839 kB 31.6 MB/s eta 0:00:01\r\u001b[K     |█████████▌                      | 849 kB 31.6 MB/s eta 0:00:01\r\u001b[K     |█████████▋                      | 860 kB 31.6 MB/s eta 0:00:01\r\u001b[K     |█████████▊                      | 870 kB 31.6 MB/s eta 0:00:01\r\u001b[K     |█████████▉                      | 880 kB 31.6 MB/s eta 0:00:01\r\u001b[K     |██████████                      | 890 kB 31.6 MB/s eta 0:00:01\r\u001b[K     |██████████                      | 901 kB 31.6 MB/s eta 0:00:01\r\u001b[K     |██████████▏                     | 911 kB 31.6 MB/s eta 0:00:01\r\u001b[K     |██████████▍                     | 921 kB 31.6 MB/s eta 0:00:01\r\u001b[K     |██████████▌                     | 931 kB 31.6 MB/s eta 0:00:01\r\u001b[K     |██████████▋                     | 942 kB 31.6 MB/s eta 0:00:01\r\u001b[K     |██████████▊                     | 952 kB 31.6 MB/s eta 0:00:01\r\u001b[K     |██████████▉                     | 962 kB 31.6 MB/s eta 0:00:01\r\u001b[K     |███████████                     | 972 kB 31.6 MB/s eta 0:00:01\r\u001b[K     |███████████                     | 983 kB 31.6 MB/s eta 0:00:01\r\u001b[K     |███████████▏                    | 993 kB 31.6 MB/s eta 0:00:01\r\u001b[K     |███████████▎                    | 1.0 MB 31.6 MB/s eta 0:00:01\r\u001b[K     |███████████▍                    | 1.0 MB 31.6 MB/s eta 0:00:01\r\u001b[K     |███████████▌                    | 1.0 MB 31.6 MB/s eta 0:00:01\r\u001b[K     |███████████▋                    | 1.0 MB 31.6 MB/s eta 0:00:01\r\u001b[K     |███████████▊                    | 1.0 MB 31.6 MB/s eta 0:00:01\r\u001b[K     |███████████▉                    | 1.1 MB 31.6 MB/s eta 0:00:01\r\u001b[K     |████████████                    | 1.1 MB 31.6 MB/s eta 0:00:01\r\u001b[K     |████████████                    | 1.1 MB 31.6 MB/s eta 0:00:01\r\u001b[K     |████████████▏                   | 1.1 MB 31.6 MB/s eta 0:00:01\r\u001b[K     |████████████▎                   | 1.1 MB 31.6 MB/s eta 0:00:01\r\u001b[K     |████████████▍                   | 1.1 MB 31.6 MB/s eta 0:00:01\r\u001b[K     |████████████▌                   | 1.1 MB 31.6 MB/s eta 0:00:01\r\u001b[K     |████████████▋                   | 1.1 MB 31.6 MB/s eta 0:00:01\r\u001b[K     |████████████▊                   | 1.1 MB 31.6 MB/s eta 0:00:01\r\u001b[K     |████████████▉                   | 1.1 MB 31.6 MB/s eta 0:00:01\r\u001b[K     |█████████████                   | 1.2 MB 31.6 MB/s eta 0:00:01\r\u001b[K     |█████████████                   | 1.2 MB 31.6 MB/s eta 0:00:01\r\u001b[K     |█████████████▏                  | 1.2 MB 31.6 MB/s eta 0:00:01\r\u001b[K     |█████████████▎                  | 1.2 MB 31.6 MB/s eta 0:00:01\r\u001b[K     |█████████████▍                  | 1.2 MB 31.6 MB/s eta 0:00:01\r\u001b[K     |█████████████▌                  | 1.2 MB 31.6 MB/s eta 0:00:01\r\u001b[K     |█████████████▋                  | 1.2 MB 31.6 MB/s eta 0:00:01\r\u001b[K     |█████████████▉                  | 1.2 MB 31.6 MB/s eta 0:00:01\r\u001b[K     |██████████████                  | 1.2 MB 31.6 MB/s eta 0:00:01\r\u001b[K     |██████████████                  | 1.2 MB 31.6 MB/s eta 0:00:01\r\u001b[K     |██████████████▏                 | 1.3 MB 31.6 MB/s eta 0:00:01\r\u001b[K     |██████████████▎                 | 1.3 MB 31.6 MB/s eta 0:00:01\r\u001b[K     |██████████████▍                 | 1.3 MB 31.6 MB/s eta 0:00:01\r\u001b[K     |██████████████▌                 | 1.3 MB 31.6 MB/s eta 0:00:01\r\u001b[K     |██████████████▋                 | 1.3 MB 31.6 MB/s eta 0:00:01\r\u001b[K     |██████████████▊                 | 1.3 MB 31.6 MB/s eta 0:00:01\r\u001b[K     |██████████████▉                 | 1.3 MB 31.6 MB/s eta 0:00:01\r\u001b[K     |███████████████                 | 1.3 MB 31.6 MB/s eta 0:00:01\r\u001b[K     |███████████████                 | 1.3 MB 31.6 MB/s eta 0:00:01\r\u001b[K     |███████████████▏                | 1.4 MB 31.6 MB/s eta 0:00:01\r\u001b[K     |███████████████▎                | 1.4 MB 31.6 MB/s eta 0:00:01\r\u001b[K     |███████████████▍                | 1.4 MB 31.6 MB/s eta 0:00:01\r\u001b[K     |███████████████▌                | 1.4 MB 31.6 MB/s eta 0:00:01\r\u001b[K     |███████████████▋                | 1.4 MB 31.6 MB/s eta 0:00:01\r\u001b[K     |███████████████▊                | 1.4 MB 31.6 MB/s eta 0:00:01\r\u001b[K     |███████████████▉                | 1.4 MB 31.6 MB/s eta 0:00:01\r\u001b[K     |████████████████                | 1.4 MB 31.6 MB/s eta 0:00:01\r\u001b[K     |████████████████                | 1.4 MB 31.6 MB/s eta 0:00:01\r\u001b[K     |████████████████▏               | 1.4 MB 31.6 MB/s eta 0:00:01\r\u001b[K     |████████████████▎               | 1.5 MB 31.6 MB/s eta 0:00:01\r\u001b[K     |████████████████▍               | 1.5 MB 31.6 MB/s eta 0:00:01\r\u001b[K     |████████████████▌               | 1.5 MB 31.6 MB/s eta 0:00:01\r\u001b[K     |████████████████▋               | 1.5 MB 31.6 MB/s eta 0:00:01\r\u001b[K     |████████████████▊               | 1.5 MB 31.6 MB/s eta 0:00:01\r\u001b[K     |████████████████▉               | 1.5 MB 31.6 MB/s eta 0:00:01\r\u001b[K     |█████████████████               | 1.5 MB 31.6 MB/s eta 0:00:01\r\u001b[K     |█████████████████               | 1.5 MB 31.6 MB/s eta 0:00:01\r\u001b[K     |█████████████████▎              | 1.5 MB 31.6 MB/s eta 0:00:01\r\u001b[K     |█████████████████▍              | 1.5 MB 31.6 MB/s eta 0:00:01\r\u001b[K     |█████████████████▌              | 1.6 MB 31.6 MB/s eta 0:00:01\r\u001b[K     |█████████████████▋              | 1.6 MB 31.6 MB/s eta 0:00:01\r\u001b[K     |█████████████████▊              | 1.6 MB 31.6 MB/s eta 0:00:01\r\u001b[K     |█████████████████▉              | 1.6 MB 31.6 MB/s eta 0:00:01\r\u001b[K     |██████████████████              | 1.6 MB 31.6 MB/s eta 0:00:01\r\u001b[K     |██████████████████              | 1.6 MB 31.6 MB/s eta 0:00:01\r\u001b[K     |██████████████████▏             | 1.6 MB 31.6 MB/s eta 0:00:01\r\u001b[K     |██████████████████▎             | 1.6 MB 31.6 MB/s eta 0:00:01\r\u001b[K     |██████████████████▍             | 1.6 MB 31.6 MB/s eta 0:00:01\r\u001b[K     |██████████████████▌             | 1.6 MB 31.6 MB/s eta 0:00:01\r\u001b[K     |██████████████████▋             | 1.7 MB 31.6 MB/s eta 0:00:01\r\u001b[K     |██████████████████▊             | 1.7 MB 31.6 MB/s eta 0:00:01\r\u001b[K     |██████████████████▉             | 1.7 MB 31.6 MB/s eta 0:00:01\r\u001b[K     |███████████████████             | 1.7 MB 31.6 MB/s eta 0:00:01\r\u001b[K     |███████████████████             | 1.7 MB 31.6 MB/s eta 0:00:01\r\u001b[K     |███████████████████▏            | 1.7 MB 31.6 MB/s eta 0:00:01\r\u001b[K     |███████████████████▎            | 1.7 MB 31.6 MB/s eta 0:00:01\r\u001b[K     |███████████████████▍            | 1.7 MB 31.6 MB/s eta 0:00:01\r\u001b[K     |███████████████████▌            | 1.7 MB 31.6 MB/s eta 0:00:01\r\u001b[K     |███████████████████▋            | 1.8 MB 31.6 MB/s eta 0:00:01\r\u001b[K     |███████████████████▊            | 1.8 MB 31.6 MB/s eta 0:00:01\r\u001b[K     |███████████████████▉            | 1.8 MB 31.6 MB/s eta 0:00:01\r\u001b[K     |████████████████████            | 1.8 MB 31.6 MB/s eta 0:00:01\r\u001b[K     |████████████████████            | 1.8 MB 31.6 MB/s eta 0:00:01\r\u001b[K     |████████████████████▏           | 1.8 MB 31.6 MB/s eta 0:00:01\r\u001b[K     |████████████████████▎           | 1.8 MB 31.6 MB/s eta 0:00:01\r\u001b[K     |████████████████████▍           | 1.8 MB 31.6 MB/s eta 0:00:01\r\u001b[K     |████████████████████▌           | 1.8 MB 31.6 MB/s eta 0:00:01\r\u001b[K     |████████████████████▊           | 1.8 MB 31.6 MB/s eta 0:00:01\r\u001b[K     |████████████████████▉           | 1.9 MB 31.6 MB/s eta 0:00:01\r\u001b[K     |█████████████████████           | 1.9 MB 31.6 MB/s eta 0:00:01\r\u001b[K     |█████████████████████           | 1.9 MB 31.6 MB/s eta 0:00:01\r\u001b[K     |█████████████████████▏          | 1.9 MB 31.6 MB/s eta 0:00:01\r\u001b[K     |█████████████████████▎          | 1.9 MB 31.6 MB/s eta 0:00:01\r\u001b[K     |█████████████████████▍          | 1.9 MB 31.6 MB/s eta 0:00:01\r\u001b[K     |█████████████████████▌          | 1.9 MB 31.6 MB/s eta 0:00:01\r\u001b[K     |█████████████████████▋          | 1.9 MB 31.6 MB/s eta 0:00:01\r\u001b[K     |█████████████████████▊          | 1.9 MB 31.6 MB/s eta 0:00:01\r\u001b[K     |█████████████████████▉          | 1.9 MB 31.6 MB/s eta 0:00:01\r\u001b[K     |██████████████████████          | 2.0 MB 31.6 MB/s eta 0:00:01\r\u001b[K     |██████████████████████          | 2.0 MB 31.6 MB/s eta 0:00:01\r\u001b[K     |██████████████████████▏         | 2.0 MB 31.6 MB/s eta 0:00:01\r\u001b[K     |██████████████████████▎         | 2.0 MB 31.6 MB/s eta 0:00:01\r\u001b[K     |██████████████████████▍         | 2.0 MB 31.6 MB/s eta 0:00:01\r\u001b[K     |██████████████████████▌         | 2.0 MB 31.6 MB/s eta 0:00:01\r\u001b[K     |██████████████████████▋         | 2.0 MB 31.6 MB/s eta 0:00:01\r\u001b[K     |██████████████████████▊         | 2.0 MB 31.6 MB/s eta 0:00:01\r\u001b[K     |██████████████████████▉         | 2.0 MB 31.6 MB/s eta 0:00:01\r\u001b[K     |███████████████████████         | 2.0 MB 31.6 MB/s eta 0:00:01\r\u001b[K     |███████████████████████         | 2.1 MB 31.6 MB/s eta 0:00:01\r\u001b[K     |███████████████████████▏        | 2.1 MB 31.6 MB/s eta 0:00:01\r\u001b[K     |███████████████████████▎        | 2.1 MB 31.6 MB/s eta 0:00:01\r\u001b[K     |███████████████████████▍        | 2.1 MB 31.6 MB/s eta 0:00:01\r\u001b[K     |███████████████████████▌        | 2.1 MB 31.6 MB/s eta 0:00:01\r\u001b[K     |███████████████████████▋        | 2.1 MB 31.6 MB/s eta 0:00:01\r\u001b[K     |███████████████████████▊        | 2.1 MB 31.6 MB/s eta 0:00:01\r\u001b[K     |███████████████████████▉        | 2.1 MB 31.6 MB/s eta 0:00:01\r\u001b[K     |████████████████████████        | 2.1 MB 31.6 MB/s eta 0:00:01\r\u001b[K     |████████████████████████▏       | 2.2 MB 31.6 MB/s eta 0:00:01\r\u001b[K     |████████████████████████▎       | 2.2 MB 31.6 MB/s eta 0:00:01\r\u001b[K     |████████████████████████▍       | 2.2 MB 31.6 MB/s eta 0:00:01\r\u001b[K     |████████████████████████▌       | 2.2 MB 31.6 MB/s eta 0:00:01\r\u001b[K     |████████████████████████▋       | 2.2 MB 31.6 MB/s eta 0:00:01\r\u001b[K     |████████████████████████▊       | 2.2 MB 31.6 MB/s eta 0:00:01\r\u001b[K     |████████████████████████▉       | 2.2 MB 31.6 MB/s eta 0:00:01\r\u001b[K     |█████████████████████████       | 2.2 MB 31.6 MB/s eta 0:00:01\r\u001b[K     |█████████████████████████       | 2.2 MB 31.6 MB/s eta 0:00:01\r\u001b[K     |█████████████████████████▏      | 2.2 MB 31.6 MB/s eta 0:00:01\r\u001b[K     |█████████████████████████▎      | 2.3 MB 31.6 MB/s eta 0:00:01\r\u001b[K     |█████████████████████████▍      | 2.3 MB 31.6 MB/s eta 0:00:01\r\u001b[K     |█████████████████████████▌      | 2.3 MB 31.6 MB/s eta 0:00:01\r\u001b[K     |█████████████████████████▋      | 2.3 MB 31.6 MB/s eta 0:00:01\r\u001b[K     |█████████████████████████▊      | 2.3 MB 31.6 MB/s eta 0:00:01\r\u001b[K     |█████████████████████████▉      | 2.3 MB 31.6 MB/s eta 0:00:01\r\u001b[K     |██████████████████████████      | 2.3 MB 31.6 MB/s eta 0:00:01\r\u001b[K     |██████████████████████████      | 2.3 MB 31.6 MB/s eta 0:00:01\r\u001b[K     |██████████████████████████▏     | 2.3 MB 31.6 MB/s eta 0:00:01\r\u001b[K     |██████████████████████████▎     | 2.3 MB 31.6 MB/s eta 0:00:01\r\u001b[K     |██████████████████████████▍     | 2.4 MB 31.6 MB/s eta 0:00:01\r\u001b[K     |██████████████████████████▌     | 2.4 MB 31.6 MB/s eta 0:00:01\r\u001b[K     |██████████████████████████▋     | 2.4 MB 31.6 MB/s eta 0:00:01\r\u001b[K     |██████████████████████████▊     | 2.4 MB 31.6 MB/s eta 0:00:01\r\u001b[K     |██████████████████████████▉     | 2.4 MB 31.6 MB/s eta 0:00:01\r\u001b[K     |███████████████████████████     | 2.4 MB 31.6 MB/s eta 0:00:01\r\u001b[K     |███████████████████████████     | 2.4 MB 31.6 MB/s eta 0:00:01\r\u001b[K     |███████████████████████████▏    | 2.4 MB 31.6 MB/s eta 0:00:01\r\u001b[K     |███████████████████████████▎    | 2.4 MB 31.6 MB/s eta 0:00:01\r\u001b[K     |███████████████████████████▍    | 2.4 MB 31.6 MB/s eta 0:00:01\r\u001b[K     |███████████████████████████▋    | 2.5 MB 31.6 MB/s eta 0:00:01\r\u001b[K     |███████████████████████████▊    | 2.5 MB 31.6 MB/s eta 0:00:01\r\u001b[K     |███████████████████████████▉    | 2.5 MB 31.6 MB/s eta 0:00:01\r\u001b[K     |████████████████████████████    | 2.5 MB 31.6 MB/s eta 0:00:01\r\u001b[K     |████████████████████████████    | 2.5 MB 31.6 MB/s eta 0:00:01\r\u001b[K     |████████████████████████████▏   | 2.5 MB 31.6 MB/s eta 0:00:01\r\u001b[K     |████████████████████████████▎   | 2.5 MB 31.6 MB/s eta 0:00:01\r\u001b[K     |████████████████████████████▍   | 2.5 MB 31.6 MB/s eta 0:00:01\r\u001b[K     |████████████████████████████▌   | 2.5 MB 31.6 MB/s eta 0:00:01\r\u001b[K     |████████████████████████████▋   | 2.5 MB 31.6 MB/s eta 0:00:01\r\u001b[K     |████████████████████████████▊   | 2.6 MB 31.6 MB/s eta 0:00:01\r\u001b[K     |████████████████████████████▉   | 2.6 MB 31.6 MB/s eta 0:00:01\r\u001b[K     |█████████████████████████████   | 2.6 MB 31.6 MB/s eta 0:00:01\r\u001b[K     |█████████████████████████████   | 2.6 MB 31.6 MB/s eta 0:00:01\r\u001b[K     |█████████████████████████████▏  | 2.6 MB 31.6 MB/s eta 0:00:01\r\u001b[K     |█████████████████████████████▎  | 2.6 MB 31.6 MB/s eta 0:00:01\r\u001b[K     |█████████████████████████████▍  | 2.6 MB 31.6 MB/s eta 0:00:01\r\u001b[K     |█████████████████████████████▌  | 2.6 MB 31.6 MB/s eta 0:00:01\r\u001b[K     |█████████████████████████████▋  | 2.6 MB 31.6 MB/s eta 0:00:01\r\u001b[K     |█████████████████████████████▊  | 2.7 MB 31.6 MB/s eta 0:00:01\r\u001b[K     |█████████████████████████████▉  | 2.7 MB 31.6 MB/s eta 0:00:01\r\u001b[K     |██████████████████████████████  | 2.7 MB 31.6 MB/s eta 0:00:01\r\u001b[K     |██████████████████████████████  | 2.7 MB 31.6 MB/s eta 0:00:01\r\u001b[K     |██████████████████████████████▏ | 2.7 MB 31.6 MB/s eta 0:00:01\r\u001b[K     |██████████████████████████████▎ | 2.7 MB 31.6 MB/s eta 0:00:01\r\u001b[K     |██████████████████████████████▍ | 2.7 MB 31.6 MB/s eta 0:00:01\r\u001b[K     |██████████████████████████████▌ | 2.7 MB 31.6 MB/s eta 0:00:01\r\u001b[K     |██████████████████████████████▋ | 2.7 MB 31.6 MB/s eta 0:00:01\r\u001b[K     |██████████████████████████████▊ | 2.7 MB 31.6 MB/s eta 0:00:01\r\u001b[K     |██████████████████████████████▉ | 2.8 MB 31.6 MB/s eta 0:00:01\r\u001b[K     |███████████████████████████████ | 2.8 MB 31.6 MB/s eta 0:00:01\r\u001b[K     |███████████████████████████████▏| 2.8 MB 31.6 MB/s eta 0:00:01\r\u001b[K     |███████████████████████████████▎| 2.8 MB 31.6 MB/s eta 0:00:01\r\u001b[K     |███████████████████████████████▍| 2.8 MB 31.6 MB/s eta 0:00:01\r\u001b[K     |███████████████████████████████▌| 2.8 MB 31.6 MB/s eta 0:00:01\r\u001b[K     |███████████████████████████████▋| 2.8 MB 31.6 MB/s eta 0:00:01\r\u001b[K     |███████████████████████████████▊| 2.8 MB 31.6 MB/s eta 0:00:01\r\u001b[K     |███████████████████████████████▉| 2.8 MB 31.6 MB/s eta 0:00:01\r\u001b[K     |████████████████████████████████| 2.8 MB 31.6 MB/s eta 0:00:01\r\u001b[K     |████████████████████████████████| 2.9 MB 31.6 MB/s \n",
            "\u001b[?25hBuilding wheels for collected packages: stem\n",
            "  Building wheel for stem (setup.py) ... \u001b[?25l\u001b[?25hdone\n",
            "  Created wheel for stem: filename=stem-1.8.0-py3-none-any.whl size=436052 sha256=eac366d3352090c2f1cb681efecd160244ed97d982678214fa1f9686881d541f\n",
            "  Stored in directory: /root/.cache/pip/wheels/77/73/98/4f0966106838e9a11710b56790f413ce6ae62e78257f8653c9\n",
            "Successfully built stem\n",
            "Installing collected packages: stem\n",
            "Successfully installed stem-1.8.0\n"
          ]
        }
      ]
    },
    {
      "cell_type": "code",
      "source": [
        "#!pip install fake_useragent"
      ],
      "metadata": {
        "colab": {
          "base_uri": "https://localhost:8080/"
        },
        "id": "xMIp8Qm151qS",
        "outputId": "29b097a5-2cdc-4718-a636-a69e9b57d382"
      },
      "execution_count": null,
      "outputs": [
        {
          "output_type": "stream",
          "name": "stdout",
          "text": [
            "Collecting fake_useragent\n",
            "  Downloading fake-useragent-0.1.11.tar.gz (13 kB)\n",
            "Building wheels for collected packages: fake-useragent\n",
            "  Building wheel for fake-useragent (setup.py) ... \u001b[?25l\u001b[?25hdone\n",
            "  Created wheel for fake-useragent: filename=fake_useragent-0.1.11-py3-none-any.whl size=13502 sha256=422e3e3d22e1f8014241b1a52cd50d9158eaf80af83ca9a2573c0480f1b7d08e\n",
            "  Stored in directory: /root/.cache/pip/wheels/ed/f7/62/50ab6c9a0b5567267ab76a9daa9d06315704209b2c5d032031\n",
            "Successfully built fake-useragent\n",
            "Installing collected packages: fake-useragent\n",
            "Successfully installed fake-useragent-0.1.11\n"
          ]
        }
      ]
    },
    {
      "cell_type": "code",
      "source": [
        "from stem import Signal\n",
        "from stem.control import Controller\n",
        "def switchIP():\n",
        "    with Controller.from_port(port = 9051) as controller:\n",
        "        controller.authenticate()\n",
        "        controller.signal(Signal.NEWNYM)"
      ],
      "metadata": {
        "id": "cRtZx6zv5pig"
      },
      "execution_count": null,
      "outputs": []
    },
    {
      "cell_type": "code",
      "source": [
        "from fake_useragent import UserAgent\n",
        "headers = {\n",
        "    #### I cannot reveal the headers until I get hired!\n",
        "    #### It's secret blend for my recepie\n",
        "}"
      ],
      "metadata": {
        "id": "4u36wCtn5rO8"
      },
      "execution_count": null,
      "outputs": []
    },
    {
      "cell_type": "code",
      "source": [
        "errors = ['Amazon.fr page non trouvée', 'Page introuvable', 'Amazon.de Die Website wurde nicht gefunden', \n",
        " '404 - Documento non trovato', 'Amazon.de Die Website wurde nicht gefunden', '404 - Documento no encontrado']"
      ],
      "metadata": {
        "id": "lrOwbXmQ58UK"
      },
      "execution_count": null,
      "outputs": []
    },
    {
      "cell_type": "code",
      "source": [
        "URL_lst = []\n",
        "prodTitle_lst = []\n",
        "prodImg_lst = []\n",
        "prodPrice_lst = []\n",
        "prodDesc_lst = [] \n",
        "\n",
        "program_starts = time.time()\n",
        "\n",
        "for i in range(0, 100):\n",
        "  URL = \"https://www.amazon.\" + df.country[i] + \"/dp/\" + df.Asin[i]\n",
        "  r = requests.get(str(URL), headers = headers)\n",
        "  soup = BeautifulSoup(r.content, 'html.parser')\n",
        "  website_title = soup.find('title').text\n",
        "  \n",
        "  #### ERROR HANDLING #####\n",
        "  if (r.status_code == 404 | r.status_code == 503):\n",
        "    #print(\"Page not available\")\n",
        "    continue\n",
        "  elif (website_title in errors):\n",
        "    #print(\"Page not available\")\n",
        "    continue\n",
        "\n",
        "  print(i)\n",
        "  \n",
        "  #### TITLE #########\n",
        "  title = str(soup.find(\"span\", {\"id\":\"productTitle\"}).text.strip())\n",
        "  try:\n",
        "    subtitle = str(soup.find(\"span\", {\"id\":\"productSubtitle\"}).text.strip())\n",
        "  except:\n",
        "    subtitle = \"\"\n",
        "  title += \" \" + subtitle\n",
        "\n",
        "\n",
        "  #### PRODUCT IMAGE #####\n",
        "  try:\n",
        "    try:\n",
        "      temp = soup.find(\"div\", {\"id\":\"imgTagWrapperId\"})\n",
        "      imageURL = temp.find(\"img\").attrs['src']\n",
        "    except AttributeError:\n",
        "      temp = soup.find(\"div\", {\"id\":\"img-canvas\"})\n",
        "      imageURL = temp.find(\"img\").attrs['src']\n",
        "  except AttributeError:\n",
        "    imageURL = \"NA\"\n",
        "\n",
        "\n",
        "  ###### PRODUCT PRICE #####\n",
        "  try:\n",
        "    try:\n",
        "      try:\n",
        "        price = str(soup.find(\"span\", {\"class\":\"a-size-base a-color-price a-color-price\"}).text.strip())\n",
        "      except AttributeError:\n",
        "        price = soup.find_all(\"span\", {\"class\":\"a-color-base\"})[1].text.strip()\n",
        "    except AttributeError:\n",
        "      price = str(soup.find(\"span\", {\"class\":\"a-offscreen\"}))\n",
        "  except:\n",
        "    price = \"NA\"\n",
        "\n",
        "  if (price == ''):\n",
        "    try:\n",
        "      price = str(soup.find(\"span\", {\"class\":\"a-offscreen\"}).text.strip())\n",
        "    except:\n",
        "      price = \"NA\"\n",
        "\n",
        "  ###### PRODUCT DESCRIPTION #######\n",
        "  temp_ = []\n",
        "  try:\n",
        "    try:\n",
        "      desc = soup.find(\"div\", {\"id\":\"productDescription\"})\n",
        "      descr = desc.find(\"p\").text.strip()\n",
        "    except AttributeError:\n",
        "      desc = soup.find(\"ul\", {\"class\":\"a-unordered-list a-nostyle a-vertical a-spacing-none detail-bullet-list\"})\n",
        "      for i in desc.find_all(\"li\"):\n",
        "        temp_.append(i.text.replace(\"\\n\", \"\"))\n",
        "      descr = \"\".join(str(x).strip() for x in temp_)\n",
        "  except AttributeError:\n",
        "    descr = \"NA\"\n",
        "\n",
        "  URL_lst.append(URL)\n",
        "  prodTitle_lst.append(title)\n",
        "  prodImg_lst.append(imageURL)\n",
        "  prodPrice_lst.append(price)\n",
        "  prodDesc_lst.append(descr) \n",
        "\n",
        "  temp_.clear()\n",
        "\n",
        "now = time.time()\n",
        "print(\"Total Elapsed Time: {}\".format(now - program_starts))"
      ],
      "metadata": {
        "colab": {
          "base_uri": "https://localhost:8080/"
        },
        "id": "ZBE64pBl6Bp9",
        "outputId": "bbdabe64-5aa7-4992-cc7e-f0c5062f4a83"
      },
      "execution_count": null,
      "outputs": [
        {
          "output_type": "stream",
          "name": "stdout",
          "text": [
            "Total Elapsed Time: 47.416157484054565\n"
          ]
        }
      ]
    },
    {
      "cell_type": "markdown",
      "source": [
        "Time taken for every 100 iterations:\n",
        "\n",
        "| Rows | Time |\n",
        "| --- | ----------- |\n",
        "| 0-100 | 47.41 |\n",
        "| 100-200 | 74.71 |\n",
        "| 200-300 | 63.18 |\n",
        "| 300-400 | 55.80 |\n",
        "| 400-500 | 49.62 |\n",
        "| 500-600 | 72.87 |\n",
        "| 600-700 | 63.10 |\n",
        "| 700-800 | 48.78 |\n",
        "| 800-900 | 54.42 |\n",
        "| 900-1000 | 44.84 |"
      ],
      "metadata": {
        "id": "Sq8YBBo9AhJN"
      }
    },
    {
      "cell_type": "code",
      "source": [
        "#### Creating a dataframe from lists\n",
        "res_0_100 = pd.DataFrame(list(zip(URL_lst, prodTitle_lst, prodImg_lst, prodPrice_lst, prodDesc_lst)), \n",
        "                       columns = ['URL', 'Product Title', 'Product Image URL', 'Product Price', 'Product Description'])"
      ],
      "metadata": {
        "id": "PJgIBFsJ6NpA"
      },
      "execution_count": null,
      "outputs": []
    },
    {
      "cell_type": "code",
      "source": [
        "res_0_100"
      ],
      "metadata": {
        "colab": {
          "base_uri": "https://localhost:8080/",
          "height": 501
        },
        "id": "0bGNPJ7k6bYO",
        "outputId": "00110ca5-b182-443e-a008-759479041026"
      },
      "execution_count": null,
      "outputs": [
        {
          "output_type": "execute_result",
          "data": {
            "text/html": [
              "\n",
              "  <div id=\"df-dfddde84-5ea9-477b-81c9-a16d2fd63f73\">\n",
              "    <div class=\"colab-df-container\">\n",
              "      <div>\n",
              "<style scoped>\n",
              "    .dataframe tbody tr th:only-of-type {\n",
              "        vertical-align: middle;\n",
              "    }\n",
              "\n",
              "    .dataframe tbody tr th {\n",
              "        vertical-align: top;\n",
              "    }\n",
              "\n",
              "    .dataframe thead th {\n",
              "        text-align: right;\n",
              "    }\n",
              "</style>\n",
              "<table border=\"1\" class=\"dataframe\">\n",
              "  <thead>\n",
              "    <tr style=\"text-align: right;\">\n",
              "      <th></th>\n",
              "      <th>URL</th>\n",
              "      <th>Product Title</th>\n",
              "      <th>Product Image URL</th>\n",
              "      <th>Product Price</th>\n",
              "      <th>Product Description</th>\n",
              "    </tr>\n",
              "  </thead>\n",
              "  <tbody>\n",
              "    <tr>\n",
              "      <th>0</th>\n",
              "      <td>https://www.amazon.de/dp/000004458X</td>\n",
              "      <td>Old Spice Shaving Cream - 70 g (original) - Pa...</td>\n",
              "      <td>https://images-eu.ssl-images-amazon.com/images...</td>\n",
              "      <td>€8.00</td>\n",
              "      <td>Old Spice Shaving Cream - 70g (Original) - Pac...</td>\n",
              "    </tr>\n",
              "    <tr>\n",
              "      <th>1</th>\n",
              "      <td>https://www.amazon.de/dp/000101742X</td>\n",
              "      <td>Short Story: Violoncello und Klavier. (Cello-B...</td>\n",
              "      <td>https://images-eu.ssl-images-amazon.com/images...</td>\n",
              "      <td>€5.95</td>\n",
              "      <td>Publisher                                    ‏...</td>\n",
              "    </tr>\n",
              "    <tr>\n",
              "      <th>2</th>\n",
              "      <td>https://www.amazon.fr/dp/000101742X</td>\n",
              "      <td>Short story (dushkin/hegyi) violon Partition –...</td>\n",
              "      <td>https://images-eu.ssl-images-amazon.com/images...</td>\n",
              "      <td>à partir de 22,88 €</td>\n",
              "      <td>Éditeur                                    ‏  ...</td>\n",
              "    </tr>\n",
              "    <tr>\n",
              "      <th>3</th>\n",
              "      <td>https://www.amazon.de/dp/000102163X</td>\n",
              "      <td>Concerto grosso g-Moll: Weihnachtskonzert. op....</td>\n",
              "      <td>https://images-eu.ssl-images-amazon.com/images...</td>\n",
              "      <td>from €18.00</td>\n",
              "      <td>Publisher                                    ‏...</td>\n",
              "    </tr>\n",
              "    <tr>\n",
              "      <th>4</th>\n",
              "      <td>https://www.amazon.fr/dp/000102163X</td>\n",
              "      <td>Concerto grosso 8 g opus 6 partitu Partition –...</td>\n",
              "      <td>https://images-eu.ssl-images-amazon.com/images...</td>\n",
              "      <td>à partir de 30,99 €</td>\n",
              "      <td>Éditeur                                    ‏  ...</td>\n",
              "    </tr>\n",
              "    <tr>\n",
              "      <th>5</th>\n",
              "      <td>https://www.amazon.de/dp/000103863X</td>\n",
              "      <td>Concertino B-Dur: Violine und Orchester. Klavi...</td>\n",
              "      <td>https://images-eu.ssl-images-amazon.com/images...</td>\n",
              "      <td>€12.65</td>\n",
              "      <td>Publisher                                    ‏...</td>\n",
              "    </tr>\n",
              "    <tr>\n",
              "      <th>6</th>\n",
              "      <td>https://www.amazon.fr/dp/000103863X</td>\n",
              "      <td>Concertino bes violon Partition – 1 janvier 2000</td>\n",
              "      <td>https://images-eu.ssl-images-amazon.com/images...</td>\n",
              "      <td>à partir de 14,69 €</td>\n",
              "      <td>Éditeur                                    ‏  ...</td>\n",
              "    </tr>\n",
              "    <tr>\n",
              "      <th>7</th>\n",
              "      <td>https://www.amazon.de/dp/000104317X</td>\n",
              "      <td>Concerto in E flat \"Dumbarton Oaks\": für Kamme...</td>\n",
              "      <td>https://images-eu.ssl-images-amazon.com/images...</td>\n",
              "      <td>€18.00</td>\n",
              "      <td>Publisher                                    ‏...</td>\n",
              "    </tr>\n",
              "    <tr>\n",
              "      <th>8</th>\n",
              "      <td>https://www.amazon.fr/dp/000104317X</td>\n",
              "      <td>Concert es kammerorchester parti musique d'ens...</td>\n",
              "      <td>https://images-eu.ssl-images-amazon.com/images...</td>\n",
              "      <td>27,08 €</td>\n",
              "      <td>Éditeur                                    ‏  ...</td>\n",
              "    </tr>\n",
              "    <tr>\n",
              "      <th>9</th>\n",
              "      <td>https://www.amazon.de/dp/000104348X</td>\n",
              "      <td>Musik für Kinder: Im Fünftonraum. Vol. 1. Sing...</td>\n",
              "      <td>https://images-eu.ssl-images-amazon.com/images...</td>\n",
              "      <td>€22.00</td>\n",
              "      <td>Publisher                                    ‏...</td>\n",
              "    </tr>\n",
              "    <tr>\n",
              "      <th>10</th>\n",
              "      <td>https://www.amazon.fr/dp/000104348X</td>\n",
              "      <td>Schulwerk vol. 1 (ted.) (orff/keetman) Partiti...</td>\n",
              "      <td>https://images-eu.ssl-images-amazon.com/images...</td>\n",
              "      <td>—</td>\n",
              "      <td>Éditeur                                    ‏  ...</td>\n",
              "    </tr>\n",
              "    <tr>\n",
              "      <th>11</th>\n",
              "      <td>https://www.amazon.de/dp/000104396X</td>\n",
              "      <td>5 antike Oden: nach Gedichten von Sappho. op. ...</td>\n",
              "      <td>https://images-eu.ssl-images-amazon.com/images...</td>\n",
              "      <td>from €32.00</td>\n",
              "      <td>Publisher                                    ‏...</td>\n",
              "    </tr>\n",
              "    <tr>\n",
              "      <th>12</th>\n",
              "      <td>https://www.amazon.fr/dp/000104396X</td>\n",
              "      <td>Funf antike oden op. 57 -ensemble de partition...</td>\n",
              "      <td>https://images-eu.ssl-images-amazon.com/images...</td>\n",
              "      <td>à partir de 39,76 €</td>\n",
              "      <td>Éditeur                                    ‏  ...</td>\n",
              "    </tr>\n",
              "  </tbody>\n",
              "</table>\n",
              "</div>\n",
              "      <button class=\"colab-df-convert\" onclick=\"convertToInteractive('df-dfddde84-5ea9-477b-81c9-a16d2fd63f73')\"\n",
              "              title=\"Convert this dataframe to an interactive table.\"\n",
              "              style=\"display:none;\">\n",
              "        \n",
              "  <svg xmlns=\"http://www.w3.org/2000/svg\" height=\"24px\"viewBox=\"0 0 24 24\"\n",
              "       width=\"24px\">\n",
              "    <path d=\"M0 0h24v24H0V0z\" fill=\"none\"/>\n",
              "    <path d=\"M18.56 5.44l.94 2.06.94-2.06 2.06-.94-2.06-.94-.94-2.06-.94 2.06-2.06.94zm-11 1L8.5 8.5l.94-2.06 2.06-.94-2.06-.94L8.5 2.5l-.94 2.06-2.06.94zm10 10l.94 2.06.94-2.06 2.06-.94-2.06-.94-.94-2.06-.94 2.06-2.06.94z\"/><path d=\"M17.41 7.96l-1.37-1.37c-.4-.4-.92-.59-1.43-.59-.52 0-1.04.2-1.43.59L10.3 9.45l-7.72 7.72c-.78.78-.78 2.05 0 2.83L4 21.41c.39.39.9.59 1.41.59.51 0 1.02-.2 1.41-.59l7.78-7.78 2.81-2.81c.8-.78.8-2.07 0-2.86zM5.41 20L4 18.59l7.72-7.72 1.47 1.35L5.41 20z\"/>\n",
              "  </svg>\n",
              "      </button>\n",
              "      \n",
              "  <style>\n",
              "    .colab-df-container {\n",
              "      display:flex;\n",
              "      flex-wrap:wrap;\n",
              "      gap: 12px;\n",
              "    }\n",
              "\n",
              "    .colab-df-convert {\n",
              "      background-color: #E8F0FE;\n",
              "      border: none;\n",
              "      border-radius: 50%;\n",
              "      cursor: pointer;\n",
              "      display: none;\n",
              "      fill: #1967D2;\n",
              "      height: 32px;\n",
              "      padding: 0 0 0 0;\n",
              "      width: 32px;\n",
              "    }\n",
              "\n",
              "    .colab-df-convert:hover {\n",
              "      background-color: #E2EBFA;\n",
              "      box-shadow: 0px 1px 2px rgba(60, 64, 67, 0.3), 0px 1px 3px 1px rgba(60, 64, 67, 0.15);\n",
              "      fill: #174EA6;\n",
              "    }\n",
              "\n",
              "    [theme=dark] .colab-df-convert {\n",
              "      background-color: #3B4455;\n",
              "      fill: #D2E3FC;\n",
              "    }\n",
              "\n",
              "    [theme=dark] .colab-df-convert:hover {\n",
              "      background-color: #434B5C;\n",
              "      box-shadow: 0px 1px 3px 1px rgba(0, 0, 0, 0.15);\n",
              "      filter: drop-shadow(0px 1px 2px rgba(0, 0, 0, 0.3));\n",
              "      fill: #FFFFFF;\n",
              "    }\n",
              "  </style>\n",
              "\n",
              "      <script>\n",
              "        const buttonEl =\n",
              "          document.querySelector('#df-dfddde84-5ea9-477b-81c9-a16d2fd63f73 button.colab-df-convert');\n",
              "        buttonEl.style.display =\n",
              "          google.colab.kernel.accessAllowed ? 'block' : 'none';\n",
              "\n",
              "        async function convertToInteractive(key) {\n",
              "          const element = document.querySelector('#df-dfddde84-5ea9-477b-81c9-a16d2fd63f73');\n",
              "          const dataTable =\n",
              "            await google.colab.kernel.invokeFunction('convertToInteractive',\n",
              "                                                     [key], {});\n",
              "          if (!dataTable) return;\n",
              "\n",
              "          const docLinkHtml = 'Like what you see? Visit the ' +\n",
              "            '<a target=\"_blank\" href=https://colab.research.google.com/notebooks/data_table.ipynb>data table notebook</a>'\n",
              "            + ' to learn more about interactive tables.';\n",
              "          element.innerHTML = '';\n",
              "          dataTable['output_type'] = 'display_data';\n",
              "          await google.colab.output.renderOutput(dataTable, element);\n",
              "          const docLink = document.createElement('div');\n",
              "          docLink.innerHTML = docLinkHtml;\n",
              "          element.appendChild(docLink);\n",
              "        }\n",
              "      </script>\n",
              "    </div>\n",
              "  </div>\n",
              "  "
            ],
            "text/plain": [
              "                                    URL  ...                                Product Description\n",
              "0   https://www.amazon.de/dp/000004458X  ...  Old Spice Shaving Cream - 70g (Original) - Pac...\n",
              "1   https://www.amazon.de/dp/000101742X  ...  Publisher                                    ‏...\n",
              "2   https://www.amazon.fr/dp/000101742X  ...  Éditeur                                    ‏  ...\n",
              "3   https://www.amazon.de/dp/000102163X  ...  Publisher                                    ‏...\n",
              "4   https://www.amazon.fr/dp/000102163X  ...  Éditeur                                    ‏  ...\n",
              "5   https://www.amazon.de/dp/000103863X  ...  Publisher                                    ‏...\n",
              "6   https://www.amazon.fr/dp/000103863X  ...  Éditeur                                    ‏  ...\n",
              "7   https://www.amazon.de/dp/000104317X  ...  Publisher                                    ‏...\n",
              "8   https://www.amazon.fr/dp/000104317X  ...  Éditeur                                    ‏  ...\n",
              "9   https://www.amazon.de/dp/000104348X  ...  Publisher                                    ‏...\n",
              "10  https://www.amazon.fr/dp/000104348X  ...  Éditeur                                    ‏  ...\n",
              "11  https://www.amazon.de/dp/000104396X  ...  Publisher                                    ‏...\n",
              "12  https://www.amazon.fr/dp/000104396X  ...  Éditeur                                    ‏  ...\n",
              "\n",
              "[13 rows x 5 columns]"
            ]
          },
          "metadata": {},
          "execution_count": 18
        }
      ]
    },
    {
      "cell_type": "code",
      "source": [
        "res_0_100.to_csv('Results/res_0_100.csv')"
      ],
      "metadata": {
        "id": "VzMpmKGG6dCk"
      },
      "execution_count": null,
      "outputs": []
    },
    {
      "cell_type": "markdown",
      "source": [
        "In the above step, I have saved the data in a dataframe. Similarly I've ran the `for` loop for every 100 rows from the given `df`.\n",
        "<br>\n",
        "Same file convention is used throghout to make sure that, I can access them easioly in the futre and when reading them, I can use regex to read them simultaneously.\n"
      ],
      "metadata": {
        "id": "YbJcEChE7GMa"
      }
    },
    {
      "cell_type": "code",
      "source": [
        "### Append data from multiple dfs to create a single df containing all records\n",
        "appended_data = []\n",
        "for i in range(0, 1000, 100):\n",
        "  file = \"Results/res_\" + str(i) + \"_\" + str(i + 100) + \".csv\"\n",
        "  appended_data.append(pd.read_csv(file))\n",
        "\n",
        "appended_data = pd.concat(appended_data)"
      ],
      "metadata": {
        "id": "MlwWLwkz7BKJ"
      },
      "execution_count": null,
      "outputs": []
    },
    {
      "cell_type": "markdown",
      "source": [
        "The above code takes all the saved `csv` files and merges them to make a new `df` with all the data from `0-1000`."
      ],
      "metadata": {
        "id": "1-kH3_DZ7kbz"
      }
    },
    {
      "cell_type": "code",
      "source": [
        "appended_data"
      ],
      "metadata": {
        "colab": {
          "base_uri": "https://localhost:8080/",
          "height": 658
        },
        "id": "Om8SJRI47sox",
        "outputId": "c172b830-b454-4ac5-f9bb-6efbbd2700d5"
      },
      "execution_count": null,
      "outputs": [
        {
          "output_type": "execute_result",
          "data": {
            "text/html": [
              "\n",
              "  <div id=\"df-43f91494-a219-4237-8775-cf8f86231b36\">\n",
              "    <div class=\"colab-df-container\">\n",
              "      <div>\n",
              "<style scoped>\n",
              "    .dataframe tbody tr th:only-of-type {\n",
              "        vertical-align: middle;\n",
              "    }\n",
              "\n",
              "    .dataframe tbody tr th {\n",
              "        vertical-align: top;\n",
              "    }\n",
              "\n",
              "    .dataframe thead th {\n",
              "        text-align: right;\n",
              "    }\n",
              "</style>\n",
              "<table border=\"1\" class=\"dataframe\">\n",
              "  <thead>\n",
              "    <tr style=\"text-align: right;\">\n",
              "      <th></th>\n",
              "      <th>Unnamed: 0</th>\n",
              "      <th>URL</th>\n",
              "      <th>Product Title</th>\n",
              "      <th>Product Image URL</th>\n",
              "      <th>Product Price</th>\n",
              "      <th>Product Description</th>\n",
              "    </tr>\n",
              "  </thead>\n",
              "  <tbody>\n",
              "    <tr>\n",
              "      <th>0</th>\n",
              "      <td>0</td>\n",
              "      <td>https://www.amazon.de/dp/000004458X</td>\n",
              "      <td>Old Spice Shaving Cream - 70 g (original) - Pa...</td>\n",
              "      <td>https://images-eu.ssl-images-amazon.com/images...</td>\n",
              "      <td>€8.00</td>\n",
              "      <td>Old Spice Shaving Cream - 70g (Original) - Pac...</td>\n",
              "    </tr>\n",
              "    <tr>\n",
              "      <th>1</th>\n",
              "      <td>1</td>\n",
              "      <td>https://www.amazon.de/dp/000101742X</td>\n",
              "      <td>Short Story: Violoncello und Klavier. (Cello-B...</td>\n",
              "      <td>https://images-eu.ssl-images-amazon.com/images...</td>\n",
              "      <td>€5.95</td>\n",
              "      <td>Publisher                                    ‏...</td>\n",
              "    </tr>\n",
              "    <tr>\n",
              "      <th>2</th>\n",
              "      <td>2</td>\n",
              "      <td>https://www.amazon.fr/dp/000101742X</td>\n",
              "      <td>Short story (dushkin/hegyi) violon Partition –...</td>\n",
              "      <td>https://images-eu.ssl-images-amazon.com/images...</td>\n",
              "      <td>à partir de 22,88 €</td>\n",
              "      <td>Éditeur                                    ‏  ...</td>\n",
              "    </tr>\n",
              "    <tr>\n",
              "      <th>3</th>\n",
              "      <td>3</td>\n",
              "      <td>https://www.amazon.de/dp/000102163X</td>\n",
              "      <td>Concerto grosso g-Moll: Weihnachtskonzert. op....</td>\n",
              "      <td>https://images-eu.ssl-images-amazon.com/images...</td>\n",
              "      <td>from €18.00</td>\n",
              "      <td>Publisher                                    ‏...</td>\n",
              "    </tr>\n",
              "    <tr>\n",
              "      <th>4</th>\n",
              "      <td>4</td>\n",
              "      <td>https://www.amazon.fr/dp/000102163X</td>\n",
              "      <td>Concerto grosso 8 g opus 6 partitu Partition –...</td>\n",
              "      <td>https://images-eu.ssl-images-amazon.com/images...</td>\n",
              "      <td>à partir de 30,99 €</td>\n",
              "      <td>Éditeur                                    ‏  ...</td>\n",
              "    </tr>\n",
              "    <tr>\n",
              "      <th>...</th>\n",
              "      <td>...</td>\n",
              "      <td>...</td>\n",
              "      <td>...</td>\n",
              "      <td>...</td>\n",
              "      <td>...</td>\n",
              "      <td>...</td>\n",
              "    </tr>\n",
              "    <tr>\n",
              "      <th>3</th>\n",
              "      <td>3</td>\n",
              "      <td>https://www.amazon.fr/dp/000417870X</td>\n",
              "      <td>Stucke(3) op.142 orgue Broché – 1 janvier 2000</td>\n",
              "      <td>https://images-eu.ssl-images-amazon.com/images...</td>\n",
              "      <td>18,15 €</td>\n",
              "      <td>Éditeur                                    ‏  ...</td>\n",
              "    </tr>\n",
              "    <tr>\n",
              "      <th>4</th>\n",
              "      <td>4</td>\n",
              "      <td>https://www.amazon.de/dp/000420736X</td>\n",
              "      <td>L'ARLESIENNE-SUITE NR. 2 ORCHESTRE Paperback –...</td>\n",
              "      <td>https://images-eu.ssl-images-amazon.com/images...</td>\n",
              "      <td>€56.34</td>\n",
              "      <td>Publisher                                    ‏...</td>\n",
              "    </tr>\n",
              "    <tr>\n",
              "      <th>5</th>\n",
              "      <td>5</td>\n",
              "      <td>https://www.amazon.fr/dp/000420736X</td>\n",
              "      <td>L'arlesienne-suite nr. 2 orchestre Broché – 1 ...</td>\n",
              "      <td>https://images-eu.ssl-images-amazon.com/images...</td>\n",
              "      <td>52,14 €</td>\n",
              "      <td>Éditeur                                    ‏  ...</td>\n",
              "    </tr>\n",
              "    <tr>\n",
              "      <th>0</th>\n",
              "      <td>0</td>\n",
              "      <td>https://www.amazon.de/dp/000421143X</td>\n",
              "      <td>EIN DEUTSCHES REQUIEM 2 KLAV Paperback – 1 Jan...</td>\n",
              "      <td>https://images-eu.ssl-images-amazon.com/images...</td>\n",
              "      <td>€92.00</td>\n",
              "      <td>Publisher                                    ‏...</td>\n",
              "    </tr>\n",
              "    <tr>\n",
              "      <th>1</th>\n",
              "      <td>1</td>\n",
              "      <td>https://www.amazon.fr/dp/000421143X</td>\n",
              "      <td>Ein deutsches requiem 2 klav Broché – 1 janvie...</td>\n",
              "      <td>https://images-eu.ssl-images-amazon.com/images...</td>\n",
              "      <td>à partir de 174,99 €</td>\n",
              "      <td>Éditeur                                    ‏  ...</td>\n",
              "    </tr>\n",
              "  </tbody>\n",
              "</table>\n",
              "<p>93 rows × 6 columns</p>\n",
              "</div>\n",
              "      <button class=\"colab-df-convert\" onclick=\"convertToInteractive('df-43f91494-a219-4237-8775-cf8f86231b36')\"\n",
              "              title=\"Convert this dataframe to an interactive table.\"\n",
              "              style=\"display:none;\">\n",
              "        \n",
              "  <svg xmlns=\"http://www.w3.org/2000/svg\" height=\"24px\"viewBox=\"0 0 24 24\"\n",
              "       width=\"24px\">\n",
              "    <path d=\"M0 0h24v24H0V0z\" fill=\"none\"/>\n",
              "    <path d=\"M18.56 5.44l.94 2.06.94-2.06 2.06-.94-2.06-.94-.94-2.06-.94 2.06-2.06.94zm-11 1L8.5 8.5l.94-2.06 2.06-.94-2.06-.94L8.5 2.5l-.94 2.06-2.06.94zm10 10l.94 2.06.94-2.06 2.06-.94-2.06-.94-.94-2.06-.94 2.06-2.06.94z\"/><path d=\"M17.41 7.96l-1.37-1.37c-.4-.4-.92-.59-1.43-.59-.52 0-1.04.2-1.43.59L10.3 9.45l-7.72 7.72c-.78.78-.78 2.05 0 2.83L4 21.41c.39.39.9.59 1.41.59.51 0 1.02-.2 1.41-.59l7.78-7.78 2.81-2.81c.8-.78.8-2.07 0-2.86zM5.41 20L4 18.59l7.72-7.72 1.47 1.35L5.41 20z\"/>\n",
              "  </svg>\n",
              "      </button>\n",
              "      \n",
              "  <style>\n",
              "    .colab-df-container {\n",
              "      display:flex;\n",
              "      flex-wrap:wrap;\n",
              "      gap: 12px;\n",
              "    }\n",
              "\n",
              "    .colab-df-convert {\n",
              "      background-color: #E8F0FE;\n",
              "      border: none;\n",
              "      border-radius: 50%;\n",
              "      cursor: pointer;\n",
              "      display: none;\n",
              "      fill: #1967D2;\n",
              "      height: 32px;\n",
              "      padding: 0 0 0 0;\n",
              "      width: 32px;\n",
              "    }\n",
              "\n",
              "    .colab-df-convert:hover {\n",
              "      background-color: #E2EBFA;\n",
              "      box-shadow: 0px 1px 2px rgba(60, 64, 67, 0.3), 0px 1px 3px 1px rgba(60, 64, 67, 0.15);\n",
              "      fill: #174EA6;\n",
              "    }\n",
              "\n",
              "    [theme=dark] .colab-df-convert {\n",
              "      background-color: #3B4455;\n",
              "      fill: #D2E3FC;\n",
              "    }\n",
              "\n",
              "    [theme=dark] .colab-df-convert:hover {\n",
              "      background-color: #434B5C;\n",
              "      box-shadow: 0px 1px 3px 1px rgba(0, 0, 0, 0.15);\n",
              "      filter: drop-shadow(0px 1px 2px rgba(0, 0, 0, 0.3));\n",
              "      fill: #FFFFFF;\n",
              "    }\n",
              "  </style>\n",
              "\n",
              "      <script>\n",
              "        const buttonEl =\n",
              "          document.querySelector('#df-43f91494-a219-4237-8775-cf8f86231b36 button.colab-df-convert');\n",
              "        buttonEl.style.display =\n",
              "          google.colab.kernel.accessAllowed ? 'block' : 'none';\n",
              "\n",
              "        async function convertToInteractive(key) {\n",
              "          const element = document.querySelector('#df-43f91494-a219-4237-8775-cf8f86231b36');\n",
              "          const dataTable =\n",
              "            await google.colab.kernel.invokeFunction('convertToInteractive',\n",
              "                                                     [key], {});\n",
              "          if (!dataTable) return;\n",
              "\n",
              "          const docLinkHtml = 'Like what you see? Visit the ' +\n",
              "            '<a target=\"_blank\" href=https://colab.research.google.com/notebooks/data_table.ipynb>data table notebook</a>'\n",
              "            + ' to learn more about interactive tables.';\n",
              "          element.innerHTML = '';\n",
              "          dataTable['output_type'] = 'display_data';\n",
              "          await google.colab.output.renderOutput(dataTable, element);\n",
              "          const docLink = document.createElement('div');\n",
              "          docLink.innerHTML = docLinkHtml;\n",
              "          element.appendChild(docLink);\n",
              "        }\n",
              "      </script>\n",
              "    </div>\n",
              "  </div>\n",
              "  "
            ],
            "text/plain": [
              "    Unnamed: 0  ...                                Product Description\n",
              "0            0  ...  Old Spice Shaving Cream - 70g (Original) - Pac...\n",
              "1            1  ...  Publisher                                    ‏...\n",
              "2            2  ...  Éditeur                                    ‏  ...\n",
              "3            3  ...  Publisher                                    ‏...\n",
              "4            4  ...  Éditeur                                    ‏  ...\n",
              "..         ...  ...                                                ...\n",
              "3            3  ...  Éditeur                                    ‏  ...\n",
              "4            4  ...  Publisher                                    ‏...\n",
              "5            5  ...  Éditeur                                    ‏  ...\n",
              "0            0  ...  Publisher                                    ‏...\n",
              "1            1  ...  Éditeur                                    ‏  ...\n",
              "\n",
              "[93 rows x 6 columns]"
            ]
          },
          "metadata": {},
          "execution_count": 26
        }
      ]
    },
    {
      "cell_type": "markdown",
      "source": [
        "Now, we have scrapped the data, it requires some cleaning before we move ahead."
      ],
      "metadata": {
        "id": "HTHOL22a9T3E"
      }
    },
    {
      "cell_type": "markdown",
      "source": [
        "## Data Cleaning"
      ],
      "metadata": {
        "id": "9_Le68nZ9c7a"
      }
    },
    {
      "cell_type": "code",
      "source": [
        "import re"
      ],
      "metadata": {
        "id": "aJjYmB5k9ROZ"
      },
      "execution_count": null,
      "outputs": []
    },
    {
      "cell_type": "code",
      "source": [
        "#### Remove special characters and spaces from df\n",
        "\n",
        "appended_data['Product Price'] = appended_data['Product Price'].apply(lambda x: re.sub('[^0-9.]', \"\", x.replace(\",\", \".\")))\n",
        "appended_data['Product Description'] = appended_data['Product Description'].str.replace('â€', '')\n",
        "appended_data['Product Description'] = appended_data['Product Description'].str.replace(')', ') ')\n",
        "appended_data['Product Description'] = appended_data['Product Description'].apply(lambda x: re.sub(' + ',' ', x))"
      ],
      "metadata": {
        "colab": {
          "base_uri": "https://localhost:8080/"
        },
        "id": "MT3SV0Fp9gSR",
        "outputId": "88e949a0-2dfa-4f13-aea0-a78333fdb490"
      },
      "execution_count": null,
      "outputs": [
        {
          "output_type": "stream",
          "name": "stderr",
          "text": [
            "/usr/local/lib/python3.7/dist-packages/ipykernel_launcher.py:3: FutureWarning: The default value of regex will change from True to False in a future version. In addition, single character regular expressions will *not* be treated as literal strings when regex=True.\n",
            "  This is separate from the ipykernel package so we can avoid doing imports until\n"
          ]
        }
      ]
    },
    {
      "cell_type": "code",
      "source": [
        "appended_data.head()"
      ],
      "metadata": {
        "colab": {
          "base_uri": "https://localhost:8080/",
          "height": 354
        },
        "id": "LkQ84TPy9kAn",
        "outputId": "50f41f07-3c18-4173-8567-6731564f38a2"
      },
      "execution_count": null,
      "outputs": [
        {
          "output_type": "execute_result",
          "data": {
            "text/html": [
              "\n",
              "  <div id=\"df-009b3998-eafd-44ba-90eb-4f3d2e686d36\">\n",
              "    <div class=\"colab-df-container\">\n",
              "      <div>\n",
              "<style scoped>\n",
              "    .dataframe tbody tr th:only-of-type {\n",
              "        vertical-align: middle;\n",
              "    }\n",
              "\n",
              "    .dataframe tbody tr th {\n",
              "        vertical-align: top;\n",
              "    }\n",
              "\n",
              "    .dataframe thead th {\n",
              "        text-align: right;\n",
              "    }\n",
              "</style>\n",
              "<table border=\"1\" class=\"dataframe\">\n",
              "  <thead>\n",
              "    <tr style=\"text-align: right;\">\n",
              "      <th></th>\n",
              "      <th>Unnamed: 0</th>\n",
              "      <th>URL</th>\n",
              "      <th>Product Title</th>\n",
              "      <th>Product Image URL</th>\n",
              "      <th>Product Price</th>\n",
              "      <th>Product Description</th>\n",
              "    </tr>\n",
              "  </thead>\n",
              "  <tbody>\n",
              "    <tr>\n",
              "      <th>0</th>\n",
              "      <td>0</td>\n",
              "      <td>https://www.amazon.de/dp/000004458X</td>\n",
              "      <td>Old Spice Shaving Cream - 70 g (original) - Pa...</td>\n",
              "      <td>https://images-eu.ssl-images-amazon.com/images...</td>\n",
              "      <td>8.00</td>\n",
              "      <td>Old Spice Shaving Cream - 70g (Original) - Pac...</td>\n",
              "    </tr>\n",
              "    <tr>\n",
              "      <th>1</th>\n",
              "      <td>1</td>\n",
              "      <td>https://www.amazon.de/dp/000101742X</td>\n",
              "      <td>Short Story: Violoncello und Klavier. (Cello-B...</td>\n",
              "      <td>https://images-eu.ssl-images-amazon.com/images...</td>\n",
              "      <td>5.95</td>\n",
              "      <td>Publisher ‏ : ‎ SCHOTT MUSIC GmbH &amp; Co KG, Mai...</td>\n",
              "    </tr>\n",
              "    <tr>\n",
              "      <th>2</th>\n",
              "      <td>2</td>\n",
              "      <td>https://www.amazon.fr/dp/000101742X</td>\n",
              "      <td>Short story (dushkin/hegyi) violon Partition –...</td>\n",
              "      <td>https://images-eu.ssl-images-amazon.com/images...</td>\n",
              "      <td>22.88</td>\n",
              "      <td>Éditeur ‏ : ‎ SCHOTT (1 janvier 2000) Langue ‏...</td>\n",
              "    </tr>\n",
              "    <tr>\n",
              "      <th>3</th>\n",
              "      <td>3</td>\n",
              "      <td>https://www.amazon.de/dp/000102163X</td>\n",
              "      <td>Concerto grosso g-Moll: Weihnachtskonzert. op....</td>\n",
              "      <td>https://images-eu.ssl-images-amazon.com/images...</td>\n",
              "      <td>18.00</td>\n",
              "      <td>Publisher ‏ : ‎ SCHOTT MUSIC GmbH &amp; Co KG, Mai...</td>\n",
              "    </tr>\n",
              "    <tr>\n",
              "      <th>4</th>\n",
              "      <td>4</td>\n",
              "      <td>https://www.amazon.fr/dp/000102163X</td>\n",
              "      <td>Concerto grosso 8 g opus 6 partitu Partition –...</td>\n",
              "      <td>https://images-eu.ssl-images-amazon.com/images...</td>\n",
              "      <td>30.99</td>\n",
              "      <td>Éditeur ‏ : ‎ SCHOTT (1 janvier 2000) Langue ‏...</td>\n",
              "    </tr>\n",
              "  </tbody>\n",
              "</table>\n",
              "</div>\n",
              "      <button class=\"colab-df-convert\" onclick=\"convertToInteractive('df-009b3998-eafd-44ba-90eb-4f3d2e686d36')\"\n",
              "              title=\"Convert this dataframe to an interactive table.\"\n",
              "              style=\"display:none;\">\n",
              "        \n",
              "  <svg xmlns=\"http://www.w3.org/2000/svg\" height=\"24px\"viewBox=\"0 0 24 24\"\n",
              "       width=\"24px\">\n",
              "    <path d=\"M0 0h24v24H0V0z\" fill=\"none\"/>\n",
              "    <path d=\"M18.56 5.44l.94 2.06.94-2.06 2.06-.94-2.06-.94-.94-2.06-.94 2.06-2.06.94zm-11 1L8.5 8.5l.94-2.06 2.06-.94-2.06-.94L8.5 2.5l-.94 2.06-2.06.94zm10 10l.94 2.06.94-2.06 2.06-.94-2.06-.94-.94-2.06-.94 2.06-2.06.94z\"/><path d=\"M17.41 7.96l-1.37-1.37c-.4-.4-.92-.59-1.43-.59-.52 0-1.04.2-1.43.59L10.3 9.45l-7.72 7.72c-.78.78-.78 2.05 0 2.83L4 21.41c.39.39.9.59 1.41.59.51 0 1.02-.2 1.41-.59l7.78-7.78 2.81-2.81c.8-.78.8-2.07 0-2.86zM5.41 20L4 18.59l7.72-7.72 1.47 1.35L5.41 20z\"/>\n",
              "  </svg>\n",
              "      </button>\n",
              "      \n",
              "  <style>\n",
              "    .colab-df-container {\n",
              "      display:flex;\n",
              "      flex-wrap:wrap;\n",
              "      gap: 12px;\n",
              "    }\n",
              "\n",
              "    .colab-df-convert {\n",
              "      background-color: #E8F0FE;\n",
              "      border: none;\n",
              "      border-radius: 50%;\n",
              "      cursor: pointer;\n",
              "      display: none;\n",
              "      fill: #1967D2;\n",
              "      height: 32px;\n",
              "      padding: 0 0 0 0;\n",
              "      width: 32px;\n",
              "    }\n",
              "\n",
              "    .colab-df-convert:hover {\n",
              "      background-color: #E2EBFA;\n",
              "      box-shadow: 0px 1px 2px rgba(60, 64, 67, 0.3), 0px 1px 3px 1px rgba(60, 64, 67, 0.15);\n",
              "      fill: #174EA6;\n",
              "    }\n",
              "\n",
              "    [theme=dark] .colab-df-convert {\n",
              "      background-color: #3B4455;\n",
              "      fill: #D2E3FC;\n",
              "    }\n",
              "\n",
              "    [theme=dark] .colab-df-convert:hover {\n",
              "      background-color: #434B5C;\n",
              "      box-shadow: 0px 1px 3px 1px rgba(0, 0, 0, 0.15);\n",
              "      filter: drop-shadow(0px 1px 2px rgba(0, 0, 0, 0.3));\n",
              "      fill: #FFFFFF;\n",
              "    }\n",
              "  </style>\n",
              "\n",
              "      <script>\n",
              "        const buttonEl =\n",
              "          document.querySelector('#df-009b3998-eafd-44ba-90eb-4f3d2e686d36 button.colab-df-convert');\n",
              "        buttonEl.style.display =\n",
              "          google.colab.kernel.accessAllowed ? 'block' : 'none';\n",
              "\n",
              "        async function convertToInteractive(key) {\n",
              "          const element = document.querySelector('#df-009b3998-eafd-44ba-90eb-4f3d2e686d36');\n",
              "          const dataTable =\n",
              "            await google.colab.kernel.invokeFunction('convertToInteractive',\n",
              "                                                     [key], {});\n",
              "          if (!dataTable) return;\n",
              "\n",
              "          const docLinkHtml = 'Like what you see? Visit the ' +\n",
              "            '<a target=\"_blank\" href=https://colab.research.google.com/notebooks/data_table.ipynb>data table notebook</a>'\n",
              "            + ' to learn more about interactive tables.';\n",
              "          element.innerHTML = '';\n",
              "          dataTable['output_type'] = 'display_data';\n",
              "          await google.colab.output.renderOutput(dataTable, element);\n",
              "          const docLink = document.createElement('div');\n",
              "          docLink.innerHTML = docLinkHtml;\n",
              "          element.appendChild(docLink);\n",
              "        }\n",
              "      </script>\n",
              "    </div>\n",
              "  </div>\n",
              "  "
            ],
            "text/plain": [
              "   Unnamed: 0  ...                                Product Description\n",
              "0           0  ...  Old Spice Shaving Cream - 70g (Original) - Pac...\n",
              "1           1  ...  Publisher ‏ : ‎ SCHOTT MUSIC GmbH & Co KG, Mai...\n",
              "2           2  ...  Éditeur ‏ : ‎ SCHOTT (1 janvier 2000) Langue ‏...\n",
              "3           3  ...  Publisher ‏ : ‎ SCHOTT MUSIC GmbH & Co KG, Mai...\n",
              "4           4  ...  Éditeur ‏ : ‎ SCHOTT (1 janvier 2000) Langue ‏...\n",
              "\n",
              "[5 rows x 6 columns]"
            ]
          },
          "metadata": {},
          "execution_count": 29
        }
      ]
    },
    {
      "cell_type": "code",
      "source": [
        "### Remove unnamed column\n",
        "data = appended_data.loc[:, ~appended_data.columns.str.contains('^Unnamed')]"
      ],
      "metadata": {
        "id": "abrNrON79m38"
      },
      "execution_count": null,
      "outputs": []
    },
    {
      "cell_type": "code",
      "source": [
        "### Reset index\n",
        "data.reset_index(drop = True, inplace = True)"
      ],
      "metadata": {
        "id": "QzZ01chr9pPQ"
      },
      "execution_count": null,
      "outputs": []
    },
    {
      "cell_type": "code",
      "source": [
        "data.tail()"
      ],
      "metadata": {
        "colab": {
          "base_uri": "https://localhost:8080/",
          "height": 354
        },
        "id": "wasBXCKE9s5-",
        "outputId": "981c65c0-3abd-48e4-95b4-bc94b885b4b5"
      },
      "execution_count": null,
      "outputs": [
        {
          "output_type": "execute_result",
          "data": {
            "text/html": [
              "\n",
              "  <div id=\"df-f560190c-6cd3-4581-9856-ae52f2255b80\">\n",
              "    <div class=\"colab-df-container\">\n",
              "      <div>\n",
              "<style scoped>\n",
              "    .dataframe tbody tr th:only-of-type {\n",
              "        vertical-align: middle;\n",
              "    }\n",
              "\n",
              "    .dataframe tbody tr th {\n",
              "        vertical-align: top;\n",
              "    }\n",
              "\n",
              "    .dataframe thead th {\n",
              "        text-align: right;\n",
              "    }\n",
              "</style>\n",
              "<table border=\"1\" class=\"dataframe\">\n",
              "  <thead>\n",
              "    <tr style=\"text-align: right;\">\n",
              "      <th></th>\n",
              "      <th>URL</th>\n",
              "      <th>Product Title</th>\n",
              "      <th>Product Image URL</th>\n",
              "      <th>Product Price</th>\n",
              "      <th>Product Description</th>\n",
              "    </tr>\n",
              "  </thead>\n",
              "  <tbody>\n",
              "    <tr>\n",
              "      <th>88</th>\n",
              "      <td>https://www.amazon.fr/dp/000417870X</td>\n",
              "      <td>Stucke(3) op.142 orgue Broché – 1 janvier 2000</td>\n",
              "      <td>https://images-eu.ssl-images-amazon.com/images...</td>\n",
              "      <td>18.15</td>\n",
              "      <td>Éditeur ‏ : ‎ BREITKOPF (1 janvier 2000) Langu...</td>\n",
              "    </tr>\n",
              "    <tr>\n",
              "      <th>89</th>\n",
              "      <td>https://www.amazon.de/dp/000420736X</td>\n",
              "      <td>L'ARLESIENNE-SUITE NR. 2 ORCHESTRE Paperback –...</td>\n",
              "      <td>https://images-eu.ssl-images-amazon.com/images...</td>\n",
              "      <td>56.34</td>\n",
              "      <td>Publisher ‏ : ‎ BREITKOPF (1 Jan. 2000) Langua...</td>\n",
              "    </tr>\n",
              "    <tr>\n",
              "      <th>90</th>\n",
              "      <td>https://www.amazon.fr/dp/000420736X</td>\n",
              "      <td>L'arlesienne-suite nr. 2 orchestre Broché – 1 ...</td>\n",
              "      <td>https://images-eu.ssl-images-amazon.com/images...</td>\n",
              "      <td>52.14</td>\n",
              "      <td>Éditeur ‏ : ‎ BREITKOPF (1 janvier 2000) Langu...</td>\n",
              "    </tr>\n",
              "    <tr>\n",
              "      <th>91</th>\n",
              "      <td>https://www.amazon.de/dp/000421143X</td>\n",
              "      <td>EIN DEUTSCHES REQUIEM 2 KLAV Paperback – 1 Jan...</td>\n",
              "      <td>https://images-eu.ssl-images-amazon.com/images...</td>\n",
              "      <td>92.00</td>\n",
              "      <td>Publisher ‏ : ‎ BREITKOPF (1 Jan. 2000) Langua...</td>\n",
              "    </tr>\n",
              "    <tr>\n",
              "      <th>92</th>\n",
              "      <td>https://www.amazon.fr/dp/000421143X</td>\n",
              "      <td>Ein deutsches requiem 2 klav Broché – 1 janvie...</td>\n",
              "      <td>https://images-eu.ssl-images-amazon.com/images...</td>\n",
              "      <td>174.99</td>\n",
              "      <td>Éditeur ‏ : ‎ BREITKOPF (1 janvier 2000) Langu...</td>\n",
              "    </tr>\n",
              "  </tbody>\n",
              "</table>\n",
              "</div>\n",
              "      <button class=\"colab-df-convert\" onclick=\"convertToInteractive('df-f560190c-6cd3-4581-9856-ae52f2255b80')\"\n",
              "              title=\"Convert this dataframe to an interactive table.\"\n",
              "              style=\"display:none;\">\n",
              "        \n",
              "  <svg xmlns=\"http://www.w3.org/2000/svg\" height=\"24px\"viewBox=\"0 0 24 24\"\n",
              "       width=\"24px\">\n",
              "    <path d=\"M0 0h24v24H0V0z\" fill=\"none\"/>\n",
              "    <path d=\"M18.56 5.44l.94 2.06.94-2.06 2.06-.94-2.06-.94-.94-2.06-.94 2.06-2.06.94zm-11 1L8.5 8.5l.94-2.06 2.06-.94-2.06-.94L8.5 2.5l-.94 2.06-2.06.94zm10 10l.94 2.06.94-2.06 2.06-.94-2.06-.94-.94-2.06-.94 2.06-2.06.94z\"/><path d=\"M17.41 7.96l-1.37-1.37c-.4-.4-.92-.59-1.43-.59-.52 0-1.04.2-1.43.59L10.3 9.45l-7.72 7.72c-.78.78-.78 2.05 0 2.83L4 21.41c.39.39.9.59 1.41.59.51 0 1.02-.2 1.41-.59l7.78-7.78 2.81-2.81c.8-.78.8-2.07 0-2.86zM5.41 20L4 18.59l7.72-7.72 1.47 1.35L5.41 20z\"/>\n",
              "  </svg>\n",
              "      </button>\n",
              "      \n",
              "  <style>\n",
              "    .colab-df-container {\n",
              "      display:flex;\n",
              "      flex-wrap:wrap;\n",
              "      gap: 12px;\n",
              "    }\n",
              "\n",
              "    .colab-df-convert {\n",
              "      background-color: #E8F0FE;\n",
              "      border: none;\n",
              "      border-radius: 50%;\n",
              "      cursor: pointer;\n",
              "      display: none;\n",
              "      fill: #1967D2;\n",
              "      height: 32px;\n",
              "      padding: 0 0 0 0;\n",
              "      width: 32px;\n",
              "    }\n",
              "\n",
              "    .colab-df-convert:hover {\n",
              "      background-color: #E2EBFA;\n",
              "      box-shadow: 0px 1px 2px rgba(60, 64, 67, 0.3), 0px 1px 3px 1px rgba(60, 64, 67, 0.15);\n",
              "      fill: #174EA6;\n",
              "    }\n",
              "\n",
              "    [theme=dark] .colab-df-convert {\n",
              "      background-color: #3B4455;\n",
              "      fill: #D2E3FC;\n",
              "    }\n",
              "\n",
              "    [theme=dark] .colab-df-convert:hover {\n",
              "      background-color: #434B5C;\n",
              "      box-shadow: 0px 1px 3px 1px rgba(0, 0, 0, 0.15);\n",
              "      filter: drop-shadow(0px 1px 2px rgba(0, 0, 0, 0.3));\n",
              "      fill: #FFFFFF;\n",
              "    }\n",
              "  </style>\n",
              "\n",
              "      <script>\n",
              "        const buttonEl =\n",
              "          document.querySelector('#df-f560190c-6cd3-4581-9856-ae52f2255b80 button.colab-df-convert');\n",
              "        buttonEl.style.display =\n",
              "          google.colab.kernel.accessAllowed ? 'block' : 'none';\n",
              "\n",
              "        async function convertToInteractive(key) {\n",
              "          const element = document.querySelector('#df-f560190c-6cd3-4581-9856-ae52f2255b80');\n",
              "          const dataTable =\n",
              "            await google.colab.kernel.invokeFunction('convertToInteractive',\n",
              "                                                     [key], {});\n",
              "          if (!dataTable) return;\n",
              "\n",
              "          const docLinkHtml = 'Like what you see? Visit the ' +\n",
              "            '<a target=\"_blank\" href=https://colab.research.google.com/notebooks/data_table.ipynb>data table notebook</a>'\n",
              "            + ' to learn more about interactive tables.';\n",
              "          element.innerHTML = '';\n",
              "          dataTable['output_type'] = 'display_data';\n",
              "          await google.colab.output.renderOutput(dataTable, element);\n",
              "          const docLink = document.createElement('div');\n",
              "          docLink.innerHTML = docLinkHtml;\n",
              "          element.appendChild(docLink);\n",
              "        }\n",
              "      </script>\n",
              "    </div>\n",
              "  </div>\n",
              "  "
            ],
            "text/plain": [
              "                                    URL  ...                                Product Description\n",
              "88  https://www.amazon.fr/dp/000417870X  ...  Éditeur ‏ : ‎ BREITKOPF (1 janvier 2000) Langu...\n",
              "89  https://www.amazon.de/dp/000420736X  ...  Publisher ‏ : ‎ BREITKOPF (1 Jan. 2000) Langua...\n",
              "90  https://www.amazon.fr/dp/000420736X  ...  Éditeur ‏ : ‎ BREITKOPF (1 janvier 2000) Langu...\n",
              "91  https://www.amazon.de/dp/000421143X  ...  Publisher ‏ : ‎ BREITKOPF (1 Jan. 2000) Langua...\n",
              "92  https://www.amazon.fr/dp/000421143X  ...  Éditeur ‏ : ‎ BREITKOPF (1 janvier 2000) Langu...\n",
              "\n",
              "[5 rows x 5 columns]"
            ]
          },
          "metadata": {},
          "execution_count": 32
        }
      ]
    },
    {
      "cell_type": "markdown",
      "source": [
        "Now, it looks super-clean!!!"
      ],
      "metadata": {
        "id": "vKLmOfe99xwC"
      }
    },
    {
      "cell_type": "markdown",
      "source": [
        "## Saving the output in desired format (i.e JSON and DB)"
      ],
      "metadata": {
        "id": "YJTB809q91Ba"
      }
    },
    {
      "cell_type": "code",
      "source": [
        "import json"
      ],
      "metadata": {
        "id": "LKpW3pH4-H8C"
      },
      "execution_count": null,
      "outputs": []
    },
    {
      "cell_type": "code",
      "source": [
        "#### Get JSON output\n",
        "output = data.to_json(orient = \"records\")"
      ],
      "metadata": {
        "id": "ZeywSUGU9um_"
      },
      "execution_count": null,
      "outputs": []
    },
    {
      "cell_type": "code",
      "source": [
        "print(output)"
      ],
      "metadata": {
        "colab": {
          "base_uri": "https://localhost:8080/"
        },
        "id": "wo9N-pWy96x4",
        "outputId": "913ac746-030a-489a-fb23-87d0f418deb8"
      },
      "execution_count": null,
      "outputs": [
        {
          "output_type": "stream",
          "name": "stdout",
          "text": [
            "[{\"URL\":\"https:\\/\\/www.amazon.de\\/dp\\/000004458X\",\"Product Title\":\"Old Spice Shaving Cream - 70 g (original) - Pack of 2 \",\"Product Image URL\":\"https:\\/\\/images-eu.ssl-images-amazon.com\\/images\\/I\\/41xHbjdSXJL._SY300_SX300_QL70_ML2_.jpg\",\"Product Price\":\"8.00\",\"Product Description\":\"Old Spice Shaving Cream - 70g (Original) - Pack of 2 - Good lubrication quality in Old Spice Lather shaving foam gives optimal gliding action a tighter, comfortable shave. Richer, longer - lasting foam stays on during your shave. Use Old Spice Lather shaving cream where you will find the masculine freshness of the old spice.\"},{\"URL\":\"https:\\/\\/www.amazon.de\\/dp\\/000101742X\",\"Product Title\":\"Short Story: Violoncello und Klavier. (Cello-Bibliothek) Sheet music \\u2013 6 Feb. 1986\",\"Product Image URL\":\"https:\\/\\/images-eu.ssl-images-amazon.com\\/images\\/I\\/41zw0783tpL._SX198_BO1,204,203,200_QL40_ML2_.jpg\",\"Product Price\":\"5.95\",\"Product Description\":\"Publisher \\u200f : \\u200e SCHOTT MUSIC GmbH & Co KG, Mainz (6 Feb. 1986) Language \\u200f : \\u200e FrenchSheet music \\u200f : \\u200e 10 pagesISBN-10 \\u200f : \\u200e 000101742XISBN-13 \\u200f : \\u200e 978-0001017429\"},{\"URL\":\"https:\\/\\/www.amazon.fr\\/dp\\/000101742X\",\"Product Title\":\"Short story (dushkin\\/hegyi) violon Partition \\u2013 1 janvier 2000\",\"Product Image URL\":\"https:\\/\\/images-eu.ssl-images-amazon.com\\/images\\/I\\/41zw0783tpL._SX218_BO1,204,203,200_QL40_ML2_.jpg\",\"Product Price\":\"22.88\",\"Product Description\":\"\\u00c9diteur \\u200f : \\u200e SCHOTT (1 janvier 2000) Langue \\u200f : \\u200e Fran\\u00e7aisISBN-10 \\u200f : \\u200e 000101742XISBN-13 \\u200f : \\u200e 978-0001017429Poids de l'article \\u200f : \\u200e 601 g\"},{\"URL\":\"https:\\/\\/www.amazon.de\\/dp\\/000102163X\",\"Product Title\":\"Concerto grosso g-Moll: Weihnachtskonzert. op. 6\\/8. 2 Violinen, Violoncello, Streichorchester und Cembalo. Partitur. (Concertino) Sheet music \\u2013 24 Feb. 1984\",\"Product Image URL\":\"https:\\/\\/images-eu.ssl-images-amazon.com\\/images\\/I\\/51sNFyf2t6L._SX198_BO1,204,203,200_QL40_ML2_.jpg\",\"Product Price\":\"18.00\",\"Product Description\":\"Publisher \\u200f : \\u200e SCHOTT MUSIC GmbH & Co KG, Mainz (24 Feb. 1984) Language \\u200f : \\u200e FrenchSheet music \\u200f : \\u200e 30 pagesISBN-10 \\u200f : \\u200e 000102163XISBN-13 \\u200f : \\u200e 978-0001021631\"},{\"URL\":\"https:\\/\\/www.amazon.fr\\/dp\\/000102163X\",\"Product Title\":\"Concerto grosso 8 g opus 6 partitu Partition \\u2013 1 janvier 2000\",\"Product Image URL\":\"https:\\/\\/images-eu.ssl-images-amazon.com\\/images\\/I\\/51sNFyf2t6L._SX218_BO1,204,203,200_QL40_ML2_.jpg\",\"Product Price\":\"30.99\",\"Product Description\":\"\\u00c9diteur \\u200f : \\u200e SCHOTT (1 janvier 2000) Langue \\u200f : \\u200e Fran\\u00e7aisISBN-10 \\u200f : \\u200e 000102163XISBN-13 \\u200f : \\u200e 978-0001021631Poids de l'article \\u200f : \\u200e 358 g\"},{\"URL\":\"https:\\/\\/www.amazon.de\\/dp\\/000103863X\",\"Product Title\":\"Concertino B-Dur: Violine und Orchester. Klavierauszug mit Solostimme. (Edition Schott) Sheet music \\u2013 18 Jan. 1980\",\"Product Image URL\":\"https:\\/\\/images-eu.ssl-images-amazon.com\\/images\\/I\\/41HnYQBk7PL._SX198_BO1,204,203,200_QL40_ML2_.jpg\",\"Product Price\":\"12.65\",\"Product Description\":\"Publisher \\u200f : \\u200e SCHOTT MUSIC GmbH & Co KG, Mainz (18 Jan. 1980) Language \\u200f : \\u200e FrenchSheet music \\u200f : \\u200e 28 pagesISBN-10 \\u200f : \\u200e 000103863XISBN-13 \\u200f : \\u200e 979-0001038638\"},{\"URL\":\"https:\\/\\/www.amazon.fr\\/dp\\/000103863X\",\"Product Title\":\"Concertino bes violon Partition \\u2013 1 janvier 2000\",\"Product Image URL\":\"https:\\/\\/images-eu.ssl-images-amazon.com\\/images\\/I\\/41HnYQBk7PL._SX218_BO1,204,203,200_QL40_ML2_.jpg\",\"Product Price\":\"14.69\",\"Product Description\":\"\\u00c9diteur \\u200f : \\u200e SCHOTT (1 janvier 2000) Langue \\u200f : \\u200e Fran\\u00e7aisISBN-10 \\u200f : \\u200e 000103863XISBN-13 \\u200f : \\u200e 979-0001038638Poids de l'article \\u200f : \\u200e 701 g\"},{\"URL\":\"https:\\/\\/www.amazon.de\\/dp\\/000104317X\",\"Product Title\":\"Concerto in E flat \\\"Dumbarton Oaks\\\": f\\u00fcr Kammerorchester. Kammerorchester. Studienpartitur. (Musik unserer Zeit) Sheet music \\u2013 19 July 1984\",\"Product Image URL\":\"https:\\/\\/images-eu.ssl-images-amazon.com\\/images\\/I\\/41fgZjPnmCL._SY264_BO1,204,203,200_QL40_ML2_.jpg\",\"Product Price\":\"18.00\",\"Product Description\":\"Publisher \\u200f : \\u200e SCHOTT MUSIC GmbH & Co KG, Mainz; Das exakte Erscheinungsdatum ist leider unbekannt edition (19 July 1984) Language \\u200f : \\u200e FrenchSheet music \\u200f : \\u200e 44 pagesISBN-10 \\u200f : \\u200e 000104317XISBN-13 \\u200f : \\u200e 978-0001043176\"},{\"URL\":\"https:\\/\\/www.amazon.fr\\/dp\\/000104317X\",\"Product Title\":\"Concert es kammerorchester parti musique d'ensemble Partition \\u2013 1 janvier 2000\",\"Product Image URL\":\"https:\\/\\/images-eu.ssl-images-amazon.com\\/images\\/I\\/41fgZjPnmCL._SY291_BO1,204,203,200_QL40_ML2_.jpg\",\"Product Price\":\"27.08\",\"Product Description\":\"\\u00c9diteur \\u200f : \\u200e SCHOTT (1 janvier 2000) Langue \\u200f : \\u200e Fran\\u00e7aisISBN-10 \\u200f : \\u200e 000104317XISBN-13 \\u200f : \\u200e 978-0001043176Poids de l'article \\u200f : \\u200e 601 g\"},{\"URL\":\"https:\\/\\/www.amazon.de\\/dp\\/000104348X\",\"Product Title\":\"Musik f\\u00fcr Kinder: Im F\\u00fcnftonraum. Vol. 1. Singstimme, Blockfl\\u00f6te und Schlagzeug. Sing- und Spielpartitur. (Orff-Schulwerk) Sheet music \\u2013 21 April 1980\",\"Product Image URL\":\"https:\\/\\/images-eu.ssl-images-amazon.com\\/images\\/I\\/419-3yqvVML._SX198_BO1,204,203,200_QL40_ML2_.jpg\",\"Product Price\":\"22.00\",\"Product Description\":\"Publisher \\u200f : \\u200e SCHOTT MUSIC GmbH & Co KG, Mainz (21 April 1980) Language \\u200f : \\u200e GermanSheet music \\u200f : \\u200e 187 pagesISBN-10 \\u200f : \\u200e 000104348XISBN-13 \\u200f : \\u200e 978-0001043480\"},{\"URL\":\"https:\\/\\/www.amazon.fr\\/dp\\/000104348X\",\"Product Title\":\"Schulwerk vol. 1 (ted.) (orff\\/keetman) Partition \\u2013 1 janvier 2000\",\"Product Image URL\":\"https:\\/\\/images-eu.ssl-images-amazon.com\\/images\\/I\\/419-3yqvVML._SX218_BO1,204,203,200_QL40_ML2_.jpg\",\"Product Price\":\"\",\"Product Description\":\"\\u00c9diteur \\u200f : \\u200e SCHOTT (1 janvier 2000) Langue \\u200f : \\u200e AllemandISBN-10 \\u200f : \\u200e 000104348XISBN-13 \\u200f : \\u200e 978-0001043480Poids de l'article \\u200f : \\u200e 701 g\"},{\"URL\":\"https:\\/\\/www.amazon.de\\/dp\\/000104396X\",\"Product Title\":\"5 antike Oden: nach Gedichten von Sappho. op. 57. mittlere Frauenstimme, Viola und Klavier. mittel. Stimmensatz. (Edition Schott) Sheet music \\u2013 7 May 1985\",\"Product Image URL\":\"https:\\/\\/images-eu.ssl-images-amazon.com\\/images\\/I\\/41uGG66YO-L._SX198_BO1,204,203,200_QL40_ML2_.jpg\",\"Product Price\":\"32.00\",\"Product Description\":\"Publisher \\u200f : \\u200e SCHOTT MUSIC GmbH & Co KG, Mainz (7 May 1985) Language \\u200f : \\u200e GermanSheet music \\u200f : \\u200e 32 pagesISBN-10 \\u200f : \\u200e 000104396XISBN-13 \\u200f : \\u200e 978-0001043961\"},{\"URL\":\"https:\\/\\/www.amazon.fr\\/dp\\/000104396X\",\"Product Title\":\"Funf antike oden op. 57 -ensemble de partitions Partition \\u2013 1 janvier 1985\",\"Product Image URL\":\"https:\\/\\/images-eu.ssl-images-amazon.com\\/images\\/I\\/41uGG66YO-L._SX218_BO1,204,203,200_QL40_ML2_.jpg\",\"Product Price\":\"39.76\",\"Product Description\":\"\\u00c9diteur \\u200f : \\u200e SCHOTT (1 janvier 1985) Langue \\u200f : \\u200e AllemandISBN-10 \\u200f : \\u200e 000104396XISBN-13 \\u200f : \\u200e 978-0001043961Poids de l'article \\u200f : \\u200e 1 kg\"},{\"URL\":\"https:\\/\\/www.amazon.es\\/dp\\/000106875X\",\"Product Title\":\"Etuden 1 & 2 orgue Partitura \\u2013 1 enero 2000\",\"Product Image URL\":\"https:\\/\\/images-na.ssl-images-amazon.com\\/images\\/I\\/31+SH2b7VAL._SX258_BO1,204,203,200_.jpg\",\"Product Price\":\"31.19\",\"Product Description\":\"Editorial \\u200f : \\u200e SCHOTT (1 enero 2000) Idioma \\u200f : \\u200e Franc\\u00e9sISBN-10 \\u200f : \\u200e 000106875XISBN-13 \\u200f : \\u200e 978-0001068759Peso del producto \\u200f : \\u200e 701 g\"},{\"URL\":\"https:\\/\\/www.amazon.fr\\/dp\\/000106875X\",\"Product Title\":\"Etuden 1 & 2 orgue Partition \\u2013 1 janvier 2000\",\"Product Image URL\":\"https:\\/\\/images-na.ssl-images-amazon.com\\/images\\/I\\/31+SH2b7VAL._SX258_BO1,204,203,200_.jpg\",\"Product Price\":\"31.19\",\"Product Description\":\"\\u00c9diteur \\u200f : \\u200e SCHOTT (1 janvier 2000) Langue \\u200f : \\u200e Fran\\u00e7aisISBN-10 \\u200f : \\u200e 000106875XISBN-13 \\u200f : \\u200e 978-0001068759Poids de l'article \\u200f : \\u200e 701 g\"},{\"URL\":\"https:\\/\\/www.amazon.it\\/dp\\/000106875X\",\"Product Title\":\"Etuden 1 & 2 orgue: Orgel. Spartito musicale \\u2013 1 gennaio 2000\",\"Product Image URL\":\"https:\\/\\/images-na.ssl-images-amazon.com\\/images\\/I\\/31+SH2b7VAL._SX258_BO1,204,203,200_.jpg\",\"Product Price\":\"31.19\",\"Product Description\":\"Editore \\u200f : \\u200e SCHOTT (1 gennaio 2000) Lingua \\u200f : \\u200e FranceseSpartito musicale \\u200f : \\u200e 12 pagineISBN-10 \\u200f : \\u200e 000106875XISBN-13 \\u200f : \\u200e 978-0001068759Peso articolo \\u200f : \\u200e 701 g\"},{\"URL\":\"https:\\/\\/www.amazon.de\\/dp\\/000107119X\",\"Product Title\":\"S\\u00e4mtliche Lieder mit Klavierbegleitung: mit Anhang: Fr\\u00fche Lieder und Fragmente. Band 2. Singstimme und Klavier. (Edition Schott, Band 2) Sheet music \\u2013 25 May 1983\",\"Product Image URL\":\"https:\\/\\/images-eu.ssl-images-amazon.com\\/images\\/I\\/41K3KHLZHNL._SX198_BO1,204,203,200_QL40_ML2_.jpg\",\"Product Price\":\"\",\"Product Description\":\"Publisher \\u200f : \\u200e SCHOTT MUSIC GmbH & Co KG, Mainz; 2. Auflage 2008 (25 May 1983) Language \\u200f : \\u200e GermanSheet music \\u200f : \\u200e 288 pagesISBN-10 \\u200f : \\u200e 000107119XISBN-13 \\u200f : \\u200e 979-0001071192\"},{\"URL\":\"https:\\/\\/www.amazon.fr\\/dp\\/000107119X\",\"Product Title\":\"Complete songs with piano accompaniment band 2 chant Partition \\u2013 1 janvier 1983\",\"Product Image URL\":\"https:\\/\\/images-eu.ssl-images-amazon.com\\/images\\/I\\/41K3KHLZHNL._SX218_BO1,204,203,200_QL40_ML2_.jpg\",\"Product Price\":\"\",\"Product Description\":\"\\u00c9diteur \\u200f : \\u200e SCHOTT (1 janvier 1983) Langue \\u200f : \\u200e AllemandISBN-10 \\u200f : \\u200e 000107119XISBN-13 \\u200f : \\u200e 979-0001071192Poids de l'article \\u200f : \\u200e 1.5 kg\"},{\"URL\":\"https:\\/\\/www.amazon.de\\/dp\\/000108142X\",\"Product Title\":\"Orchester-Probespiel Kontrabass: Sammlung wichtiger Passagen aus der Opern- und Konzertliteratur. Kontrabass. Sheet music \\u2013 29 Jun. 1992\",\"Product Image URL\":\"https:\\/\\/images-eu.ssl-images-amazon.com\\/images\\/I\\/61OVNlClEDL._SX198_BO1,204,203,200_QL40_ML2_.jpg\",\"Product Price\":\"26.00\",\"Product Description\":\"Publisher \\u200f : \\u200e SCHOTT MUSIC GmbH & Co KG, Mainz; 2. Auflage 2008 (29 Jun. 1992) Language \\u200f : \\u200e FrenchSheet music \\u200f : \\u200e 62 pagesISBN-10 \\u200f : \\u200e 000108142XISBN-13 \\u200f : \\u200e 979-0001081429Dimensions \\u200f : \\u200e 20 x 14 x 4 cm\"},{\"URL\":\"https:\\/\\/www.amazon.es\\/dp\\/000108142X\",\"Product Title\":\"Spielbuch orchestre Partitura \\u2013 1 enero 2000\",\"Product Image URL\":\"https:\\/\\/images-na.ssl-images-amazon.com\\/images\\/I\\/61OVNlClEDL._SX198_BO1,204,203,200_QL40_ML2_.jpg\",\"Product Price\":\"25.78\",\"Product Description\":\"Editorial \\u200f : \\u200e SCHOTT (1 enero 2000) Idioma \\u200f : \\u200e Franc\\u00e9sISBN-10 \\u200f : \\u200e 000108142XISBN-13 \\u200f : \\u200e 979-0001081429Peso del producto \\u200f : \\u200e 801 gDimensiones \\u200f : \\u200e 20 x 14 x 4 cm\"},{\"URL\":\"https:\\/\\/www.amazon.fr\\/dp\\/000108142X\",\"Product Title\":\"Spielbuch orchestre Partition \\u2013 1 janvier 2000\",\"Product Image URL\":\"https:\\/\\/images-eu.ssl-images-amazon.com\\/images\\/I\\/61OVNlClEDL._SX218_BO1,204,203,200_QL40_ML2_.jpg\",\"Product Price\":\"41.45\",\"Product Description\":\"\\u00c9diteur \\u200f : \\u200e SCHOTT (1 janvier 2000) Langue \\u200f : \\u200e Fran\\u00e7aisPartition \\u200f : \\u200e 62 pagesISBN-10 \\u200f : \\u200e 000108142XISBN-13 \\u200f : \\u200e 979-0001081429Poids de l'article \\u200f : \\u200e 801 gDimensions \\u200f : \\u200e 20 x 14 x 4 cm\"},{\"URL\":\"https:\\/\\/www.amazon.de\\/dp\\/000108173X\",\"Product Title\":\"Wir h\\u00f6ren und spielen: Ein Weg zum absoluten Geh\\u00f6r. Band 3. Klavier. Sheet music \\u2013 17 Jan. 1994\",\"Product Image URL\":\"https:\\/\\/images-eu.ssl-images-amazon.com\\/images\\/I\\/51d3H5bMOmL._SX198_BO1,204,203,200_QL40_ML2_.jpg\",\"Product Price\":\"\",\"Product Description\":\"Publisher \\u200f : \\u200e SCHOTT MUSIC GmbH & Co KG, Mainz (17 Jan. 1994) Language \\u200f : \\u200e GermanSheet music \\u200f : \\u200e 136 pagesISBN-10 \\u200f : \\u200e 000108173XISBN-13 \\u200f : \\u200e 978-0001081734\"},{\"URL\":\"https:\\/\\/www.amazon.fr\\/dp\\/000108173X\",\"Product Title\":\"Wir horen und spielen band 3 piano Partition \\u2013 1 janvier 1994\",\"Product Image URL\":\"https:\\/\\/images-eu.ssl-images-amazon.com\\/images\\/I\\/51d3H5bMOmL._SX218_BO1,204,203,200_QL40_ML2_.jpg\",\"Product Price\":\"\",\"Product Description\":\"\\u00c9diteur \\u200f : \\u200e SCHOTT (1 janvier 1994) Langue \\u200f : \\u200e AllemandISBN-10 \\u200f : \\u200e 000108173XISBN-13 \\u200f : \\u200e 978-0001081734Poids de l'article \\u200f : \\u200e 1.1 kg\"},{\"URL\":\"https:\\/\\/www.amazon.fr\\/dp\\/000108299X\",\"Product Title\":\"Arien(2) (grand macabre) 2e akte Partition \\u2013 1 janvier 2000\",\"Product Image URL\":\"https:\\/\\/images-eu.ssl-images-amazon.com\\/images\\/I\\/41usGis9EJL._SX218_BO1,204,203,200_QL40_ML2_.jpg\",\"Product Price\":\"33.96\",\"Product Description\":\"\\u00c9diteur \\u200f : \\u200e SCHOTT (1 janvier 2000) Langue \\u200f : \\u200e Fran\\u00e7aisISBN-10 \\u200f : \\u200e 000108299XISBN-13 \\u200f : \\u200e 978-0001082991Poids de l'article \\u200f : \\u200e 801 g\"},{\"URL\":\"https:\\/\\/www.amazon.it\\/dp\\/000108299X\",\"Product Title\":\"Arien(2) (grand macabre) 2e akte Spartito musicale \\u2013 1 gennaio 2000\",\"Product Image URL\":\"https:\\/\\/images-eu.ssl-images-amazon.com\\/images\\/I\\/41usGis9EJL._SX198_BO1,204,203,200_QL40_ML2_.jpg\",\"Product Price\":\"10.20\",\"Product Description\":\"Editore \\u200f : \\u200e SCHOTT (1 gennaio 2000) Lingua \\u200f : \\u200e FranceseSpartito musicale \\u200f : \\u200e 32 pagineISBN-10 \\u200f : \\u200e 000108299XISBN-13 \\u200f : \\u200e 978-0001082991Peso articolo \\u200f : \\u200e 801 g\"},{\"URL\":\"https:\\/\\/www.amazon.fr\\/dp\\/000108657X\",\"Product Title\":\"Fantasie c piano Partition \\u2013 1 janvier 2000\",\"Product Image URL\":\"https:\\/\\/images-eu.ssl-images-amazon.com\\/images\\/I\\/41qQkCHj52L._SX218_BO1,204,203,200_QL40_ML2_.jpg\",\"Product Price\":\"9.03\",\"Product Description\":\"\\u00c9diteur \\u200f : \\u200e SCHOTT (1 janvier 2000) Langue \\u200f : \\u200e Fran\\u00e7aisISBN-10 \\u200f : \\u200e 000108657XISBN-13 \\u200f : \\u200e 978-0001086579Poids de l'article \\u200f : \\u200e 201 gDimensions \\u200f : \\u200e 20 x 14 x 4 cm\"},{\"URL\":\"https:\\/\\/www.amazon.it\\/dp\\/000108657X\",\"Product Title\":\"Fantasie c piano Spartito musicale \\u2013 1 gennaio 2000\",\"Product Image URL\":\"https:\\/\\/images-eu.ssl-images-amazon.com\\/images\\/I\\/41qQkCHj52L._SX198_BO1,204,203,200_QL40_ML2_.jpg\",\"Product Price\":\"9.03\",\"Product Description\":\"Editore \\u200f : \\u200e SCHOTT (1 gennaio 2000) Lingua \\u200f : \\u200e FranceseSpartito musicale \\u200f : \\u200e 12 pagineISBN-10 \\u200f : \\u200e 000108657XISBN-13 \\u200f : \\u200e 978-0001086579Peso articolo \\u200f : \\u200e 201 gDimensioni \\u200f : \\u200e 20 x 14 x 4 cm\"},{\"URL\":\"https:\\/\\/www.amazon.de\\/dp\\/000108660X\",\"Product Title\":\"Le Coucou: Rondeau. Klavier. (Edition Schott Einzelausgabe) Sheet music \\u2013 6 Jan. 1984\",\"Product Image URL\":\"https:\\/\\/images-eu.ssl-images-amazon.com\\/images\\/I\\/41am5Cllb9L._SX198_BO1,204,203,200_QL40_ML2_.jpg\",\"Product Price\":\"1.20\",\"Product Description\":\"Publisher \\u200f : \\u200e SCHOTT MUSIC GmbH & Co KG, Mainz (6 Jan. 1984) Language \\u200f : \\u200e FrenchSheet music \\u200f : \\u200e 8 pagesISBN-10 \\u200f : \\u200e 000108660XISBN-13 \\u200f : \\u200e 978-0001086609\"},{\"URL\":\"https:\\/\\/www.amazon.fr\\/dp\\/000108660X\",\"Product Title\":\"Coucou piano Partition \\u2013 1 janvier 2000\",\"Product Image URL\":\"https:\\/\\/images-eu.ssl-images-amazon.com\\/images\\/I\\/41am5Cllb9L._SX218_BO1,204,203,200_QL40_ML2_.jpg\",\"Product Price\":\"11.80\",\"Product Description\":\"\\u00c9diteur \\u200f : \\u200e SCHOTT (1 janvier 2000) Langue \\u200f : \\u200e Fran\\u00e7aisISBN-10 \\u200f : \\u200e 000108660XISBN-13 \\u200f : \\u200e 978-0001086609Poids de l'article \\u200f : \\u200e 201 g\"},{\"URL\":\"https:\\/\\/www.amazon.de\\/dp\\/000108688X\",\"Product Title\":\"Adelaide: op. 46. mittlere Singstimme und Klavier. (Edition Schott Einzelausgabe) Sheet music \\u2013 30 Jun. 1976\",\"Product Image URL\":\"https:\\/\\/images-eu.ssl-images-amazon.com\\/images\\/I\\/41zo5m7iCzL._SX198_BO1,204,203,200_QL40_ML2_.jpg\",\"Product Price\":\"6.50\",\"Product Description\":\"Publisher \\u200f : \\u200e SCHOTT MUSIC GmbH & Co KG, Mainz (30 Jun. 1976) Language \\u200f : \\u200e German, English, FrenchSheet music \\u200f : \\u200e 12 pagesISBN-10 \\u200f : \\u200e 000108688XISBN-13 \\u200f : \\u200e 978-0001086883\"},{\"URL\":\"https:\\/\\/www.amazon.fr\\/dp\\/000108688X\",\"Product Title\":\"Adelaide op.46 Partition \\u2013 1 janvier 2000\",\"Product Image URL\":\"https:\\/\\/images-eu.ssl-images-amazon.com\\/images\\/I\\/41zo5m7iCzL._SX218_BO1,204,203,200_QL40_ML2_.jpg\",\"Product Price\":\"12.86\",\"Product Description\":\"\\u00c9diteur \\u200f : \\u200e SCHOTT (1 janvier 2000) Langue \\u200f : \\u200e Anglais, Fran\\u00e7ais, AllemandISBN-10 \\u200f : \\u200e 000108688XISBN-13 \\u200f : \\u200e 978-0001086883Poids de l'article \\u200f : \\u200e 201 g\"},{\"URL\":\"https:\\/\\/www.amazon.de\\/dp\\/000108898X\",\"Product Title\":\"Cavatine: op. 85\\/3. Violine (Violoncello) und Klavier. (Edition Schott Einzelausgabe) Sheet music \\u2013 15 Mar. 1979\",\"Product Image URL\":\"https:\\/\\/images-eu.ssl-images-amazon.com\\/images\\/I\\/410JKNeHjbL._SX198_BO1,204,203,200_QL40_ML2_.jpg\",\"Product Price\":\"4.50\",\"Product Description\":\"Publisher \\u200f : \\u200e SCHOTT MUSIC GmbH & Co KG, Mainz (15 Mar. 1979) Language \\u200f : \\u200e FrenchSheet music \\u200f : \\u200e 8 pagesISBN-10 \\u200f : \\u200e 000108898XISBN-13 \\u200f : \\u200e 979-0001088985\"},{\"URL\":\"https:\\/\\/www.amazon.fr\\/dp\\/000108898X\",\"Product Title\":\"Cavatine opus 85\\/3 violon Partition \\u2013 1 janvier 2000\",\"Product Image URL\":\"https:\\/\\/images-eu.ssl-images-amazon.com\\/images\\/I\\/410JKNeHjbL._SX218_BO1,204,203,200_QL40_ML2_.jpg\",\"Product Price\":\"10.12\",\"Product Description\":\"\\u00c9diteur \\u200f : \\u200e SCHOTT (1 janvier 2000) Langue \\u200f : \\u200e Fran\\u00e7aisISBN-10 \\u200f : \\u200e 000108898XISBN-13 \\u200f : \\u200e 979-0001088985Poids de l'article \\u200f : \\u200e 201 g\"},{\"URL\":\"https:\\/\\/www.amazon.de\\/dp\\/000108917X\",\"Product Title\":\"Gnomenreigen: Konzert-Et\\u00fcde. Klavier. (Edition Schott Einzelausgabe) Sheet music \\u2013 15 Mar. 1978\",\"Product Image URL\":\"https:\\/\\/images-eu.ssl-images-amazon.com\\/images\\/I\\/41A1-6T49fL._SX198_BO1,204,203,200_QL40_ML2_.jpg\",\"Product Price\":\"5.50\",\"Product Description\":\"Publisher \\u200f : \\u200e SCHOTT MUSIC GmbH & Co KG, Mainz (15 Mar. 1978) Language \\u200f : \\u200e FrenchSheet music \\u200f : \\u200e 12 pagesISBN-10 \\u200f : \\u200e 000108917XISBN-13 \\u200f : \\u200e 978-0001089174\"},{\"URL\":\"https:\\/\\/www.amazon.fr\\/dp\\/000108917X\",\"Product Title\":\"Gnomenreigen piano Partition \\u2013 1 janvier 2000\",\"Product Image URL\":\"https:\\/\\/images-eu.ssl-images-amazon.com\\/images\\/I\\/41A1-6T49fL._SX218_BO1,204,203,200_QL40_ML2_.jpg\",\"Product Price\":\"9.03\",\"Product Description\":\"\\u00c9diteur \\u200f : \\u200e SCHOTT (1 janvier 2000) Langue \\u200f : \\u200e Fran\\u00e7aisISBN-10 \\u200f : \\u200e 000108917XISBN-13 \\u200f : \\u200e 978-0001089174Poids de l'article \\u200f : \\u200e 201 g\"},{\"URL\":\"https:\\/\\/www.amazon.de\\/dp\\/000109212X\",\"Product Title\":\"Moto perpetuo: op. 11. Violine und Klavier. (Edition Schott Einzelausgabe) Sheet music \\u2013 26 Aug. 1985\",\"Product Image URL\":\"https:\\/\\/images-eu.ssl-images-amazon.com\\/images\\/I\\/41L-o9AvBSL._SX198_BO1,204,203,200_QL40_ML2_.jpg\",\"Product Price\":\"6.50\",\"Product Description\":\"Publisher \\u200f : \\u200e SCHOTT MUSIC GmbH & Co KG, Mainz (26 Aug. 1985) Language \\u200f : \\u200e FrenchSheet music \\u200f : \\u200e 16 pagesISBN-10 \\u200f : \\u200e 000109212XISBN-13 \\u200f : \\u200e 978-0001092129\"},{\"URL\":\"https:\\/\\/www.amazon.fr\\/dp\\/000109212X\",\"Product Title\":\"Moto perpetuo violon Partition \\u2013 1 janvier 2000\",\"Product Image URL\":\"https:\\/\\/images-eu.ssl-images-amazon.com\\/images\\/I\\/41L-o9AvBSL._SX218_BO1,204,203,200_QL40_ML2_.jpg\",\"Product Price\":\"10.60\",\"Product Description\":\"\\u00c9diteur \\u200f : \\u200e SCHOTT (1 janvier 2000) Langue \\u200f : \\u200e Fran\\u00e7aisISBN-10 \\u200f : \\u200e 000109212XISBN-13 \\u200f : \\u200e 978-0001092129Poids de l'article \\u200f : \\u200e 201 g\"},{\"URL\":\"https:\\/\\/www.amazon.de\\/dp\\/000109257X\",\"Product Title\":\"Happy Birthday: Humoristische Variationen \\u00fcber ein Geburtstagslied. Klavier 4-h\\u00e4ndig. (Edition Schott Einzelausgabe) Sheet music \\u2013 13 Jan. 1988\",\"Product Image URL\":\"https:\\/\\/images-eu.ssl-images-amazon.com\\/images\\/I\\/41wLZGTLuGL._SX198_BO1,204,203,200_QL40_ML2_.jpg\",\"Product Price\":\"6.50\",\"Product Description\":\"Publisher \\u200f : \\u200e SCHOTT MUSIC GmbH & Co KG, Mainz (13 Jan. 1988) Language \\u200f : \\u200e FrenchSheet music \\u200f : \\u200e 16 pagesISBN-10 \\u200f : \\u200e 000109257XISBN-13 \\u200f : \\u200e 978-0001092570\"},{\"URL\":\"https:\\/\\/www.amazon.fr\\/dp\\/000109257X\",\"Product Title\":\"Happy birthday piano Partition \\u2013 1 janvier 2000\",\"Product Image URL\":\"https:\\/\\/images-eu.ssl-images-amazon.com\\/images\\/I\\/41wLZGTLuGL._SX218_BO1,204,203,200_QL40_ML2_.jpg\",\"Product Price\":\"12.86\",\"Product Description\":\"\\u00c9diteur \\u200f : \\u200e SCHOTT (1 janvier 2000) Langue \\u200f : \\u200e Fran\\u00e7aisISBN-10 \\u200f : \\u200e 000109257XISBN-13 \\u200f : \\u200e 978-0001092570Poids de l'article \\u200f : \\u200e 201 g\"},{\"URL\":\"https:\\/\\/www.amazon.de\\/dp\\/000109453X\",\"Product Title\":\"6 Duos: op. 1. 2 Fl\\u00f6ten. Spielpartitur. (Edition Schott) Sheet music \\u2013 8 Mar. 1994\",\"Product Image URL\":\"https:\\/\\/images-eu.ssl-images-amazon.com\\/images\\/I\\/41yNWRfXqDL._SX198_BO1,204,203,200_QL40_ML2_.jpg\",\"Product Price\":\"24.50\",\"Product Description\":\"Publisher \\u200f : \\u200e SCHOTT MUSIC GmbH & Co KG, Mainz (8 Mar. 1994) Language \\u200f : \\u200e FrenchSheet music \\u200f : \\u200e 56 pagesISBN-10 \\u200f : \\u200e 000109453XISBN-13 \\u200f : \\u200e 978-0001094536\"},{\"URL\":\"https:\\/\\/www.amazon.fr\\/dp\\/000109453X\",\"Product Title\":\"Duos(6) opus 1 flute traversiere Partition \\u2013 1 janvier 2000\",\"Product Image URL\":\"https:\\/\\/images-eu.ssl-images-amazon.com\\/images\\/I\\/41yNWRfXqDL._SX218_BO1,204,203,200_QL40_ML2_.jpg\",\"Product Price\":\"32.82\",\"Product Description\":\"\\u00c9diteur \\u200f : \\u200e SCHOTT (1 janvier 2000) Langue \\u200f : \\u200e Fran\\u00e7aisISBN-10 \\u200f : \\u200e 000109453XISBN-13 \\u200f : \\u200e 978-0001094536Poids de l'article \\u200f : \\u200e 701 g\"},{\"URL\":\"https:\\/\\/www.amazon.de\\/dp\\/000109825X\",\"Product Title\":\"Cs\\u00e1rd\\u00e1s-Kompositionen: Klarinette und Klavier. (Edition Schott) Sheet music \\u2013 3 Oct. 1988\",\"Product Image URL\":\"https:\\/\\/images-eu.ssl-images-amazon.com\\/images\\/I\\/41vzotqLOgL._SX198_BO1,204,203,200_QL40_ML2_.jpg\",\"Product Price\":\"16.00\",\"Product Description\":\"Publisher \\u200f : \\u200e SCHOTT MUSIC GmbH & Co KG, Mainz (3 Oct. 1988) Language \\u200f : \\u200e FrenchSheet music \\u200f : \\u200e 31 pagesISBN-10 \\u200f : \\u200e 000109825XISBN-13 \\u200f : \\u200e 979-0001098250\"},{\"URL\":\"https:\\/\\/www.amazon.fr\\/dp\\/000109825X\",\"Product Title\":\"Csardas-kompositionen clarinette Partition \\u2013 1 janvier 2000\",\"Product Image URL\":\"https:\\/\\/images-eu.ssl-images-amazon.com\\/images\\/I\\/41vzotqLOgL._SX218_BO1,204,203,200_QL40_ML2_.jpg\",\"Product Price\":\"26.26\",\"Product Description\":\"\\u00c9diteur \\u200f : \\u200e SCHOTT (1 janvier 2000) Langue \\u200f : \\u200e Fran\\u00e7aisISBN-10 \\u200f : \\u200e 000109825XISBN-13 \\u200f : \\u200e 979-0001098250Poids de l'article \\u200f : \\u200e 120 g\"},{\"URL\":\"https:\\/\\/www.amazon.de\\/dp\\/000110733X\",\"Product Title\":\"S\\u00e9r\\u00e9nade espagnole: Violine und Klavier. (Edition Schott, Nr. 26) Sheet music \\u2013 26 Aug. 1985\",\"Product Image URL\":\"https:\\/\\/images-eu.ssl-images-amazon.com\\/images\\/I\\/419YG5nPHEL._SX198_BO1,204,203,200_QL40_ML2_.jpg\",\"Product Price\":\"9.00\",\"Product Description\":\"Publisher \\u200f : \\u200e SCHOTT MUSIC GmbH & Co KG, Mainz (26 Aug. 1985) Language \\u200f : \\u200e FrenchSheet music \\u200f : \\u200e 8 pagesISBN-10 \\u200f : \\u200e 000110733XISBN-13 \\u200f : \\u200e 978-0001107335\"},{\"URL\":\"https:\\/\\/www.amazon.fr\\/dp\\/000110733X\",\"Product Title\":\"Serenata spagnola (kreisler) violon Partition \\u2013 1 janvier 2000\",\"Product Image URL\":\"https:\\/\\/images-eu.ssl-images-amazon.com\\/images\\/I\\/419YG5nPHEL._SX218_BO1,204,203,200_QL40_ML2_.jpg\",\"Product Price\":\"14.77\",\"Product Description\":\"\\u00c9diteur \\u200f : \\u200e SCHOTT (1 janvier 2000) Langue \\u200f : \\u200e Fran\\u00e7aisPartition \\u200f : \\u200e 7 pagesISBN-10 \\u200f : \\u200e 000110733XISBN-13 \\u200f : \\u200e 978-0001107335Poids de l'article \\u200f : \\u200e 401 g\"},{\"URL\":\"https:\\/\\/www.amazon.de\\/dp\\/000111252X\",\"Product Title\":\"Eingedunkelt: Neun Gedichte nach Paul Celan. Alt-Solo. Alt. Sheet music \\u2013 22 Dec. 1995\",\"Product Image URL\":\"https:\\/\\/images-eu.ssl-images-amazon.com\\/images\\/I\\/41suSIrxOHL._SX198_BO1,204,203,200_QL40_ML2_.jpg\",\"Product Price\":\"18.00\",\"Product Description\":\"Publisher \\u200f : \\u200e SCHOTT MUSIC GmbH & Co KG, Mainz (22 Dec. 1995) Language \\u200f : \\u200e GermanSheet music \\u200f : \\u200e 16 pagesISBN-10 \\u200f : \\u200e 000111252XISBN-13 \\u200f : \\u200e 979-0001112529\"},{\"URL\":\"https:\\/\\/www.amazon.fr\\/dp\\/000111252X\",\"Product Title\":\"Eingedunkelt Partition \\u2013 1 janvier 1995\",\"Product Image URL\":\"https:\\/\\/images-eu.ssl-images-amazon.com\\/images\\/I\\/41suSIrxOHL._SX218_BO1,204,203,200_QL40_ML2_.jpg\",\"Product Price\":\"24.99\",\"Product Description\":\"\\u00c9diteur \\u200f : \\u200e SCHOTT (1 janvier 1995) Langue \\u200f : \\u200e AllemandISBN-10 \\u200f : \\u200e 000111252XISBN-13 \\u200f : \\u200e 979-0001112529Poids de l'article \\u200f : \\u200e 601 g\"},{\"URL\":\"https:\\/\\/www.amazon.de\\/dp\\/000115687X\",\"Product Title\":\"Viola Spaces: Contemporary Viola Studies. Band 1. Viola. (Essential Exercises, Band 1) Sheet music \\u2013 9 Mar. 2009\",\"Product Image URL\":\"https:\\/\\/images-eu.ssl-images-amazon.com\\/images\\/I\\/41Y-4h2wgsL._SX198_BO1,204,203,200_QL40_ML2_.jpg\",\"Product Price\":\"28.00\",\"Product Description\":\"Publisher \\u200f : \\u200e SCHOTT MUSIC GmbH & Co KG, Mainz (9 Mar. 2009) Language \\u200f : \\u200e German, EnglishSheet music \\u200f : \\u200e 48 pagesISBN-10 \\u200f : \\u200e 000115687XISBN-13 \\u200f : \\u200e 978-0001156876\"},{\"URL\":\"https:\\/\\/www.amazon.fr\\/dp\\/000115687X\",\"Product Title\":\"Viola spaces vol. 1 alto Partition \\u2013 1 janvier 2009\",\"Product Image URL\":\"https:\\/\\/images-eu.ssl-images-amazon.com\\/images\\/I\\/41Y-4h2wgsL._SX218_BO1,204,203,200_QL40_ML2_.jpg\",\"Product Price\":\"48.58\",\"Product Description\":\"\\u00c9diteur \\u200f : \\u200e SCHOTT (1 janvier 2009) Langue \\u200f : \\u200e Allemand, AnglaisISBN-10 \\u200f : \\u200e 000115687XISBN-13 \\u200f : \\u200e 978-0001156876Poids de l'article \\u200f : \\u200e 801 g\"},{\"URL\":\"https:\\/\\/www.amazon.de\\/dp\\/000416041X\",\"Product Title\":\"Klaviertrio G-Dur Hob XV:15 (EB 1131) Paperback \\u2013 31 May 1966\",\"Product Image URL\":\"https:\\/\\/images-eu.ssl-images-amazon.com\\/images\\/I\\/41zx75efEBL._SX198_BO1,204,203,200_QL40_ML2_.jpg\",\"Product Price\":\"13.90\",\"Product Description\":\"Publisher \\u200f : \\u200e Breitkopf & H\\u00e4rtel (31 May 1966) Language \\u200f : \\u200e GermanPaperback \\u200f : \\u200e 40 pagesISBN-10 \\u200f : \\u200e 000416041XISBN-13 \\u200f : \\u200e 979-0004160411\"},{\"URL\":\"https:\\/\\/www.amazon.fr\\/dp\\/000416041X\",\"Product Title\":\"Klavier-trio g-dur hob xv: 15 Broch\\u00e9 \\u2013 1 janvier 2000\",\"Product Image URL\":\"https:\\/\\/images-eu.ssl-images-amazon.com\\/images\\/I\\/41zx75efEBL._SX218_BO1,204,203,200_QL40_ML2_.jpg\",\"Product Price\":\"15.38\",\"Product Description\":\"\\u00c9diteur \\u200f : \\u200e BREITKOPF (1 janvier 2000) Langue \\u200f : \\u200e AllemandBroch\\u00e9 \\u200f : \\u200e 40 pagesISBN-10 \\u200f : \\u200e 000416041XISBN-13 \\u200f : \\u200e 979-0004160411Poids de l'article \\u200f : \\u200e 401 g\"},{\"URL\":\"https:\\/\\/www.amazon.de\\/dp\\/000416105X\",\"Product Title\":\"VIOLINKONZERT 2 D-DUR KV 211 Paperback \\u2013 1 Jan. 2000\",\"Product Image URL\":\"https:\\/\\/images-eu.ssl-images-amazon.com\\/images\\/I\\/51Qp-R83kUL._SX198_BO1,204,203,200_QL40_ML2_.jpg\",\"Product Price\":\"19.02\",\"Product Description\":\"Publisher \\u200f : \\u200e BREITKOPF (1 Jan. 2000) Language \\u200f : \\u200e FrenchISBN-10 \\u200f : \\u200e 000416105XISBN-13 \\u200f : \\u200e 978-0004161051\"},{\"URL\":\"https:\\/\\/www.amazon.fr\\/dp\\/000416105X\",\"Product Title\":\"Violinkonzert 2 d-dur kv 211 Broch\\u00e9 \\u2013 1 janvier 2000\",\"Product Image URL\":\"https:\\/\\/images-eu.ssl-images-amazon.com\\/images\\/I\\/51Qp-R83kUL._SX218_BO1,204,203,200_QL40_ML2_.jpg\",\"Product Price\":\"19.99\",\"Product Description\":\"\\u00c9diteur \\u200f : \\u200e BREITKOPF (1 janvier 2000) Langue \\u200f : \\u200e Fran\\u00e7aisISBN-10 \\u200f : \\u200e 000416105XISBN-13 \\u200f : \\u200e 978-0004161051Poids de l'article \\u200f : \\u200e 340 g\"},{\"URL\":\"https:\\/\\/www.amazon.fr\\/dp\\/000416198X\",\"Product Title\":\"2 divertimenti kv 252, kv 240 Broch\\u00e9 \\u2013 1 janvier 2000\",\"Product Image URL\":\"https:\\/\\/images-eu.ssl-images-amazon.com\\/images\\/I\\/41H73ri0GDL._SY291_BO1,204,203,200_QL40_ML2_.jpg\",\"Product Price\":\"22.37\",\"Product Description\":\"\\u00c9diteur \\u200f : \\u200e BREITKOPF (1 janvier 2000) Langue \\u200f : \\u200e AllemandBroch\\u00e9 \\u200f : \\u200e 36 pagesISBN-10 \\u200f : \\u200e 000416198XISBN-13 \\u200f : \\u200e 978-0004161983Poids de l'article \\u200f : \\u200e 1 kg\"},{\"URL\":\"https:\\/\\/www.amazon.it\\/dp\\/000416198X\",\"Product Title\":\"2 leichte Divertimenti f\\u00fcr Violine (Oboe), Cello (Fagott) und Klavier - Es-dur KV 252 (240a) und B-dur KV 240 - Bearbeitung (EB 3810) Copertina flessibile \\u2013 1 gennaio 2000\",\"Product Image URL\":\"https:\\/\\/images-eu.ssl-images-amazon.com\\/images\\/I\\/41H73ri0GDL._SY264_BO1,204,203,200_QL40_ML2_.jpg\",\"Product Price\":\"22.37\",\"Product Description\":\"Editore \\u200f : \\u200e Breitkopf & H\\u00e4rtel (1 gennaio 2000) Lingua \\u200f : \\u200e TedescoCopertina flessibile \\u200f : \\u200e 36 pagineISBN-10 \\u200f : \\u200e 000416198XISBN-13 \\u200f : \\u200e 978-0004161983Peso articolo \\u200f : \\u200e 1 kg\"},{\"URL\":\"https:\\/\\/www.amazon.de\\/dp\\/000416413X\",\"Product Title\":\"Il Re pastore KV 208 - L'amer\\u00f2, sar\\u00f2 costante - Arie der Aminta - Ausgabe f\\u00fcr Sorpan, Violine und Klavier (EB 5473) Sheet music \\u2013 5 Nov. 1963\",\"Product Image URL\":\"https:\\/\\/images-eu.ssl-images-amazon.com\\/images\\/I\\/41YwjHe4wkL._SX198_BO1,204,203,200_QL40_ML2_.jpg\",\"Product Price\":\"7.90\",\"Product Description\":\"Publisher \\u200f : \\u200e Breitkopf & H\\u00e4rtel (5 Nov. 1963) Language \\u200f : \\u200e GermanSheet music \\u200f : \\u200e 10 pagesISBN-10 \\u200f : \\u200e 000416413XISBN-13 \\u200f : \\u200e 978-0004164137\"},{\"URL\":\"https:\\/\\/www.amazon.fr\\/dp\\/000416413X\",\"Product Title\":\"L'amero\\/dein bin ich kv 208 Partition \\u2013 1 janvier 2000\",\"Product Image URL\":\"https:\\/\\/images-eu.ssl-images-amazon.com\\/images\\/I\\/41YwjHe4wkL._SX218_BO1,204,203,200_QL40_ML2_.jpg\",\"Product Price\":\"10.55\",\"Product Description\":\"\\u00c9diteur \\u200f : \\u200e BREITKOPF (1 janvier 2000) Langue \\u200f : \\u200e AllemandPartition \\u200f : \\u200e 10 pagesISBN-10 \\u200f : \\u200e 000416413XISBN-13 \\u200f : \\u200e 978-0004164137Poids de l'article \\u200f : \\u200e 201 g\"},{\"URL\":\"https:\\/\\/www.amazon.de\\/dp\\/000416444X\",\"Product Title\":\"Sonate op. 41 - Ausgabe f\\u00fcr Fagott und Klavier (EB 5567) Paperback \\u2013 21 Mar. 1961\",\"Product Image URL\":\"https:\\/\\/images-eu.ssl-images-amazon.com\\/images\\/I\\/41aptNQZHrL._SX198_BO1,204,203,200_QL40_ML2_.jpg\",\"Product Price\":\"35.90\",\"Product Description\":\"Publisher \\u200f : \\u200e Breitkopf & H\\u00e4rtel (21 Mar. 1961) Language \\u200f : \\u200e GermanPaperback \\u200f : \\u200e 36 pagesISBN-10 \\u200f : \\u200e 000416444XISBN-13 \\u200f : \\u200e 978-0004164441\"},{\"URL\":\"https:\\/\\/www.amazon.fr\\/dp\\/000416444X\",\"Product Title\":\"Sonate op. 41 basson Broch\\u00e9 \\u2013 1 janvier 2000\",\"Product Image URL\":\"https:\\/\\/images-eu.ssl-images-amazon.com\\/images\\/I\\/41aptNQZHrL._SX218_BO1,204,203,200_QL40_ML2_.jpg\",\"Product Price\":\"28.57\",\"Product Description\":\"\\u00c9diteur \\u200f : \\u200e BREITKOPF (1 janvier 2000) Langue \\u200f : \\u200e AllemandBroch\\u00e9 \\u200f : \\u200e 36 pagesISBN-10 \\u200f : \\u200e 000416444XISBN-13 \\u200f : \\u200e 978-0004164441Poids de l'article \\u200f : \\u200e 140 g\"},{\"URL\":\"https:\\/\\/www.amazon.de\\/dp\\/000416508X\",\"Product Title\":\"Quintett B-dur op. 34 - Breitkopf Urtext - Stimmensatz (EB 5830) Taschenbuch \\u2013 29. April 1966\",\"Product Image URL\":\"https:\\/\\/images-eu.ssl-images-amazon.com\\/images\\/I\\/41QN-6dasEL._SX198_BO1,204,203,200_QL40_ML2_.jpg\",\"Product Price\":\"25.90\",\"Product Description\":\"Herausgeber \\u200f : \\u200e Breitkopf & H\\u00e4rtel (29. April 1966) Sprache \\u200f : \\u200e DeutschTaschenbuch \\u200f : \\u200e 68 SeitenISBN-10 \\u200f : \\u200e 000416508XISBN-13 \\u200f : \\u200e 978-0004165080Abmessungen \\u200f : \\u200e 30.51 x 23.01 x 0.48 cm\"},{\"URL\":\"https:\\/\\/www.amazon.fr\\/dp\\/000416508X\",\"Product Title\":\"Quintett b-dur op. 34 clarinette Broch\\u00e9 \\u2013 1 janvier 2000\",\"Product Image URL\":\"https:\\/\\/images-eu.ssl-images-amazon.com\\/images\\/I\\/41QN-6dasEL._SX218_BO1,204,203,200_QL40_ML2_.jpg\",\"Product Price\":\"36.44\",\"Product Description\":\"\\u00c9diteur \\u200f : \\u200e BREITKOPF (1 janvier 2000) Langue \\u200f : \\u200e AllemandBroch\\u00e9 \\u200f : \\u200e 68 pagesISBN-10 \\u200f : \\u200e 000416508XISBN-13 \\u200f : \\u200e 978-0004165080Poids de l'article \\u200f : \\u200e 500 gDimensions \\u200f : \\u200e 30.51 x 23.01 x 0.48 cm\"},{\"URL\":\"https:\\/\\/www.amazon.de\\/dp\\/000416511X\",\"Product Title\":\"Sonate B-dur f\\u00fcr Fl\\u00f6te und Klavier (EB 5879) Sheet music \\u2013 14 Feb. 1969\",\"Product Image URL\":\"https:\\/\\/images-eu.ssl-images-amazon.com\\/images\\/I\\/515ZbxjDfLL._SY264_BO1,204,203,200_QL40_ML2_.jpg\",\"Product Price\":\"15.90\",\"Product Description\":\"Publisher \\u200f : \\u200e Breitkopf & H\\u00e4rtel (14 Feb. 1969) Language \\u200f : \\u200e GermanSheet music \\u200f : \\u200e 36 pagesISBN-10 \\u200f : \\u200e 000416511XISBN-13 \\u200f : \\u200e 979-0004165119\"},{\"URL\":\"https:\\/\\/www.amazon.fr\\/dp\\/000416511X\",\"Product Title\":\"Sonate bes flute traversiere Partition \\u2013 1 janvier 2000\",\"Product Image URL\":\"https:\\/\\/images-eu.ssl-images-amazon.com\\/images\\/I\\/515ZbxjDfLL._SY291_BO1,204,203,200_QL40_ML2_.jpg\",\"Product Price\":\"20.96\",\"Product Description\":\"\\u00c9diteur \\u200f : \\u200e BREITKOPF (1 janvier 2000) Langue \\u200f : \\u200e AllemandPartition \\u200f : \\u200e 36 pagesISBN-10 \\u200f : \\u200e 000416511XISBN-13 \\u200f : \\u200e 979-0004165119Poids de l'article \\u200f : \\u200e 501 g\"},{\"URL\":\"https:\\/\\/www.amazon.fr\\/dp\\/000416816X\",\"Product Title\":\"Chaconne d-moll aus bwv 1004 Partition \\u2013 1 janvier 2000\",\"Product Image URL\":\"https:\\/\\/images-eu.ssl-images-amazon.com\\/images\\/I\\/41lrIDbi75L._SY291_BO1,204,203,200_QL40_ML2_.jpg\",\"Product Price\":\"13.93\",\"Product Description\":\"\\u00c9diteur \\u200f : \\u200e BREITKOPF (1 janvier 2000) Langue \\u200f : \\u200e AllemandPartition \\u200f : \\u200e 16 pagesISBN-10 \\u200f : \\u200e 000416816XISBN-13 \\u200f : \\u200e 978-0004168166Poids de l'article \\u200f : \\u200e 401 g\"},{\"URL\":\"https:\\/\\/www.amazon.it\\/dp\\/000416816X\",\"Product Title\":\"Chaconne aus der Partita II d-moll BWV 1004 Bearbeitung f\\u00fcr Cembalo (EB 6594) Spartito musicale \\u2013 1 gennaio 2000\",\"Product Image URL\":\"https:\\/\\/images-eu.ssl-images-amazon.com\\/images\\/I\\/41lrIDbi75L._SY264_BO1,204,203,200_QL40_ML2_.jpg\",\"Product Price\":\"13.93\",\"Product Description\":\"Editore \\u200f : \\u200e Breitkopf & H\\u00e4rtel (1 gennaio 2000) Lingua \\u200f : \\u200e TedescoSpartito musicale \\u200f : \\u200e 16 pagineISBN-10 \\u200f : \\u200e 000416816XISBN-13 \\u200f : \\u200e 978-0004168166Peso articolo \\u200f : \\u200e 401 g\"},{\"URL\":\"https:\\/\\/www.amazon.de\\/dp\\/000416976X\",\"Product Title\":\"LITANIAE DE VENERABILI KV 243 Paperback \\u2013 1 Jan. 2000\",\"Product Image URL\":\"https:\\/\\/images-na.ssl-images-amazon.com\\/images\\/I\\/414wyAfP+WL._SY344_BO1,204,203,200_.jpg\",\"Product Price\":\"15.47\",\"Product Description\":\"Publisher \\u200f : \\u200e BREITKOPF (1 Jan. 2000) Language \\u200f : \\u200e FrenchISBN-10 \\u200f : \\u200e 000416976XISBN-13 \\u200f : \\u200e 979-0004169766\"},{\"URL\":\"https:\\/\\/www.amazon.fr\\/dp\\/000416976X\",\"Product Title\":\"Litaniae de venerabili kv 243 Broch\\u00e9 \\u2013 1 janvier 2000\",\"Product Image URL\":\"https:\\/\\/images-na.ssl-images-amazon.com\\/images\\/I\\/414wyAfP+WL._SY344_BO1,204,203,200_.jpg\",\"Product Price\":\"15.28\",\"Product Description\":\"\\u00c9diteur \\u200f : \\u200e BREITKOPF (1 janvier 2000) Langue \\u200f : \\u200e Fran\\u00e7aisISBN-10 \\u200f : \\u200e 000416976XISBN-13 \\u200f : \\u200e 979-0004169766Poids de l'article \\u200f : \\u200e 501 g\"},{\"URL\":\"https:\\/\\/www.amazon.de\\/dp\\/000417156X\",\"Product Title\":\"Kantate 2 Ach Gott, Vom Sheet music \\u2013 1 Jan. 2000\",\"Product Image URL\":\"https:\\/\\/images-eu.ssl-images-amazon.com\\/images\\/I\\/41Suo9QtJ2L._SY264_BO1,204,203,200_QL40_ML2_.jpg\",\"Product Price\":\"8.16\",\"Product Description\":\"Publisher \\u200f : \\u200e BREITKOPF; Klavierauszug deutsch\\/englisch edition (1 Jan. 2000) Language \\u200f : \\u200e FrenchSheet music \\u200f : \\u200e 27 pagesISBN-10 \\u200f : \\u200e 000417156XISBN-13 \\u200f : \\u200e 979-0004171561Dimensions \\u200f : \\u200e 27 x 19 x 0.41 cm\"},{\"URL\":\"https:\\/\\/www.amazon.fr\\/dp\\/000417156X\",\"Product Title\":\"Kantate 2 ach gott, vom Partition \\u2013 1 janvier 2000\",\"Product Image URL\":\"https:\\/\\/images-eu.ssl-images-amazon.com\\/images\\/I\\/41Suo9QtJ2L._SY291_BO1,204,203,200_QL40_ML2_.jpg\",\"Product Price\":\"5.73\",\"Product Description\":\"\\u00c9diteur \\u200f : \\u200e BREITKOPF (1 janvier 2000) Langue \\u200f : \\u200e Fran\\u00e7aisISBN-10 \\u200f : \\u200e 000417156XISBN-13 \\u200f : \\u200e 979-0004171561Poids de l'article \\u200f : \\u200e 201 gDimensions \\u200f : \\u200e 27 x 19 x 0.41 cm\"},{\"URL\":\"https:\\/\\/www.amazon.de\\/dp\\/000417173X\",\"Product Title\":\"Kantate 19 Es Erhub Sich Ein Sheet music \\u2013 1 Jan. 2000\",\"Product Image URL\":\"https:\\/\\/images-eu.ssl-images-amazon.com\\/images\\/I\\/41xQZu3zHbL._SY264_BO1,204,203,200_QL40_ML2_.jpg\",\"Product Price\":\"11.26\",\"Product Description\":\"Publisher \\u200f : \\u200e BREITKOPF; Klavierauszug Leipzig 1983 edition (1 Jan. 2000) Language \\u200f : \\u200e FrenchSheet music \\u200f : \\u200e 28 pagesISBN-10 \\u200f : \\u200e 000417173XISBN-13 \\u200f : \\u200e 978-0004171739\"},{\"URL\":\"https:\\/\\/www.amazon.fr\\/dp\\/000417173X\",\"Product Title\":\"Kantate 19 es erhub sich ein Partition \\u2013 1 janvier 2000\",\"Product Image URL\":\"https:\\/\\/images-eu.ssl-images-amazon.com\\/images\\/I\\/41xQZu3zHbL._SY291_BO1,204,203,200_QL40_ML2_.jpg\",\"Product Price\":\"7.39\",\"Product Description\":\"\\u00c9diteur \\u200f : \\u200e BREITKOPF (1 janvier 2000) Langue \\u200f : \\u200e Fran\\u00e7aisISBN-10 \\u200f : \\u200e 000417173XISBN-13 \\u200f : \\u200e 978-0004171739Poids de l'article \\u200f : \\u200e 301 g\"},{\"URL\":\"https:\\/\\/www.amazon.de\\/dp\\/000417206X\",\"Product Title\":\"Kantate 52 Falsche Welt, Dir Sheet music \\u2013 1 Jan. 2000\",\"Product Image URL\":\"https:\\/\\/images-eu.ssl-images-amazon.com\\/images\\/I\\/41mTrzyK76L._SY264_BO1,204,203,200_QL40_ML2_.jpg\",\"Product Price\":\"7.39\",\"Product Description\":\"Publisher \\u200f : \\u200e BREITKOPF; Klavierauszug Leipzig 1984 edition (1 Jan. 2000) Language \\u200f : \\u200e FrenchSheet music \\u200f : \\u200e 20 pagesISBN-10 \\u200f : \\u200e 000417206XISBN-13 \\u200f : \\u200e 978-0004172064\"},{\"URL\":\"https:\\/\\/www.amazon.fr\\/dp\\/000417206X\",\"Product Title\":\"Kantate 52 falsche welt, dir Partition \\u2013 1 janvier 2000\",\"Product Image URL\":\"https:\\/\\/images-eu.ssl-images-amazon.com\\/images\\/I\\/41mTrzyK76L._SY291_BO1,204,203,200_QL40_ML2_.jpg\",\"Product Price\":\"6.21\",\"Product Description\":\"\\u00c9diteur \\u200f : \\u200e BREITKOPF (1 janvier 2000) Langue \\u200f : \\u200e Fran\\u00e7aisISBN-10 \\u200f : \\u200e 000417206XISBN-13 \\u200f : \\u200e 978-0004172064Poids de l'article \\u200f : \\u200e 201 g\"},{\"URL\":\"https:\\/\\/www.amazon.de\\/dp\\/000417237X\",\"Product Title\":\"KANTATE 083 ERFREUTE ZEIT IM Sheet music \\u2013 1 Jan. 2000\",\"Product Image URL\":\"https:\\/\\/images-eu.ssl-images-amazon.com\\/images\\/I\\/41d0FaBiSTL._SY264_BO1,204,203,200_QL40_ML2_.jpg\",\"Product Price\":\"7.39\",\"Product Description\":\"Publisher \\u200f : \\u200e BREITKOPF; Klavierauszug Leipzig 1988 edition (1 Jan. 2000) Language \\u200f : \\u200e FrenchSheet music \\u200f : \\u200e 18 pagesISBN-10 \\u200f : \\u200e 000417237XISBN-13 \\u200f : \\u200e 979-0004172377\"},{\"URL\":\"https:\\/\\/www.amazon.fr\\/dp\\/000417237X\",\"Product Title\":\"Kantate 083 erfreute zeit im Partition \\u2013 1 janvier 2000\",\"Product Image URL\":\"https:\\/\\/images-eu.ssl-images-amazon.com\\/images\\/I\\/41d0FaBiSTL._SY291_BO1,204,203,200_QL40_ML2_.jpg\",\"Product Price\":\"6.90\",\"Product Description\":\"\\u00c9diteur \\u200f : \\u200e BREITKOPF (1 janvier 2000) Langue \\u200f : \\u200e Fran\\u00e7aisISBN-10 \\u200f : \\u200e 000417237XISBN-13 \\u200f : \\u200e 979-0004172377Poids de l'article \\u200f : \\u200e 201 g\"},{\"URL\":\"https:\\/\\/www.amazon.de\\/dp\\/000417240X\",\"Product Title\":\"Kantate 86 Wahrlich, Wahrlich Paperback \\u2013 1 Jan. 2000\",\"Product Image URL\":\"https:\\/\\/images-eu.ssl-images-amazon.com\\/images\\/I\\/41aWBN0BW1L._SY264_BO1,204,203,200_QL40_ML2_.jpg\",\"Product Price\":\"6.50\",\"Product Description\":\"Publisher \\u200f : \\u200e BREITKOPF; Klavierauszug Leipzig 1983 edition (1 Jan. 2000) Language \\u200f : \\u200e FrenchPaperback \\u200f : \\u200e 20 pagesISBN-10 \\u200f : \\u200e 000417240XISBN-13 \\u200f : \\u200e 979-0004172407\"},{\"URL\":\"https:\\/\\/www.amazon.fr\\/dp\\/000417240X\",\"Product Title\":\"Kantate 86 wahrlich, wahrlich Broch\\u00e9 \\u2013 1 janvier 2000\",\"Product Image URL\":\"https:\\/\\/images-eu.ssl-images-amazon.com\\/images\\/I\\/41aWBN0BW1L._SY291_BO1,204,203,200_QL40_ML2_.jpg\",\"Product Price\":\"\",\"Product Description\":\"\\u00c9diteur \\u200f : \\u200e BREITKOPF (1 janvier 2000) Langue \\u200f : \\u200e Fran\\u00e7aisISBN-10 \\u200f : \\u200e 000417240XISBN-13 \\u200f : \\u200e 979-0004172407Poids de l'article \\u200f : \\u200e 201 g\"},{\"URL\":\"https:\\/\\/www.amazon.de\\/dp\\/000417268X\",\"Product Title\":\"Kantate 114 Ach Lieben Paperback \\u2013 1 Jan. 2000\",\"Product Image URL\":\"https:\\/\\/images-eu.ssl-images-amazon.com\\/images\\/I\\/41mIiAzCWsL._SY264_BO1,204,203,200_QL40_ML2_.jpg\",\"Product Price\":\"8.50\",\"Product Description\":\"Publisher \\u200f : \\u200e BREITKOPF; Klavierauszug Leipzig 1985 edition (1 Jan. 2000) Language \\u200f : \\u200e FrenchPaperback \\u200f : \\u200e 28 pagesISBN-10 \\u200f : \\u200e 000417268XISBN-13 \\u200f : \\u200e 979-0004172681\"},{\"URL\":\"https:\\/\\/www.amazon.fr\\/dp\\/000417268X\",\"Product Title\":\"Kantate 114 ach lieben Broch\\u00e9 \\u2013 1 janvier 2000\",\"Product Image URL\":\"https:\\/\\/images-eu.ssl-images-amazon.com\\/images\\/I\\/41mIiAzCWsL._SY291_BO1,204,203,200_QL40_ML2_.jpg\",\"Product Price\":\"9.00\",\"Product Description\":\"\\u00c9diteur \\u200f : \\u200e BREITKOPF (1 janvier 2000) Langue \\u200f : \\u200e Fran\\u00e7aisISBN-10 \\u200f : \\u200e 000417268XISBN-13 \\u200f : \\u200e 979-0004172681Poids de l'article \\u200f : \\u200e 201 g\"},{\"URL\":\"https:\\/\\/www.amazon.de\\/dp\\/000417271X\",\"Product Title\":\"Kantate 117 Sie Lob Und Ehr Pamphlet \\u2013 1 Jan. 2000\",\"Product Image URL\":\"https:\\/\\/images-eu.ssl-images-amazon.com\\/images\\/I\\/41hlFmvlMsL._SY264_BO1,204,203,200_QL40_ML2_.jpg\",\"Product Price\":\"9.15\",\"Product Description\":\"Publisher \\u200f : \\u200e BREITKOPF; Klavierauszug deutsch\\/englisch edition (1 Jan. 2000) Language \\u200f : \\u200e FrenchPamphlet \\u200f : \\u200e 28 pagesISBN-10 \\u200f : \\u200e 000417271XISBN-13 \\u200f : \\u200e 978-0004172712\"},{\"URL\":\"https:\\/\\/www.amazon.fr\\/dp\\/000417271X\",\"Product Title\":\"Kantate 117 sie lob und ehr Brochure \\u2013 1 janvier 2000\",\"Product Image URL\":\"https:\\/\\/images-eu.ssl-images-amazon.com\\/images\\/I\\/41hlFmvlMsL._SY291_BO1,204,203,200_QL40_ML2_.jpg\",\"Product Price\":\"8.16\",\"Product Description\":\"\\u00c9diteur \\u200f : \\u200e BREITKOPF (1 janvier 2000) Langue \\u200f : \\u200e Fran\\u00e7aisISBN-10 \\u200f : \\u200e 000417271XISBN-13 \\u200f : \\u200e 978-0004172712Poids de l'article \\u200f : \\u200e 201 g\"},{\"URL\":\"https:\\/\\/www.amazon.de\\/dp\\/000417318X\",\"Product Title\":\"Bach, Kantate 164, Ihr, die ihr euch von Christo nennet Paperback \\u2013 1 Jan. 2000\",\"Product Image URL\":\"https:\\/\\/images-na.ssl-images-amazon.com\\/images\\/I\\/41+g+QbpBFL._SX258_BO1,204,203,200_.jpg\",\"Product Price\":\"7.39\",\"Product Description\":\"Publisher \\u200f : \\u200e BREITKOPF; Klavierauszug Leipzig 1986 edition (1 Jan. 2000) Language \\u200f : \\u200e FrenchPaperback \\u200f : \\u200e 20 pagesISBN-10 \\u200f : \\u200e 000417318XISBN-13 \\u200f : \\u200e 979-0004173183\"},{\"URL\":\"https:\\/\\/www.amazon.fr\\/dp\\/000417318X\",\"Product Title\":\"Kantate 164 ihr die ihr euch Broch\\u00e9 \\u2013 1 janvier 2000\",\"Product Image URL\":\"https:\\/\\/images-na.ssl-images-amazon.com\\/images\\/I\\/41+g+QbpBFL._SX258_BO1,204,203,200_.jpg\",\"Product Price\":\"8.40\",\"Product Description\":\"\\u00c9diteur \\u200f : \\u200e BREITKOPF (1 janvier 2000) Langue \\u200f : \\u200e Fran\\u00e7aisISBN-10 \\u200f : \\u200e 000417318XISBN-13 \\u200f : \\u200e 979-0004173183Poids de l'article \\u200f : \\u200e 201 g\"},{\"URL\":\"https:\\/\\/www.amazon.de\\/dp\\/000417335X\",\"Product Title\":\"Kantate 181 Leichtgesinnte Paperback \\u2013 1 Jan. 2000\",\"Product Image URL\":\"https:\\/\\/images-eu.ssl-images-amazon.com\\/images\\/I\\/31D4bTOuJaL._SY264_BO1,204,203,200_QL40_ML2_.jpg\",\"Product Price\":\"6.50\",\"Product Description\":\"Publisher \\u200f : \\u200e BREITKOPF (1 Jan. 2000) Language \\u200f : \\u200e FrenchISBN-10 \\u200f : \\u200e 000417335XISBN-13 \\u200f : \\u200e 978-0004173351\"},{\"URL\":\"https:\\/\\/www.amazon.fr\\/dp\\/000417335X\",\"Product Title\":\"Kantate 181 leichtgesinnte Broch\\u00e9 \\u2013 1 janvier 2000\",\"Product Image URL\":\"https:\\/\\/images-eu.ssl-images-amazon.com\\/images\\/I\\/31D4bTOuJaL._SY291_BO1,204,203,200_QL40_ML2_.jpg\",\"Product Price\":\"3.44\",\"Product Description\":\"\\u00c9diteur \\u200f : \\u200e BREITKOPF (1 janvier 2000) Langue \\u200f : \\u200e Fran\\u00e7aisISBN-10 \\u200f : \\u200e 000417335XISBN-13 \\u200f : \\u200e 978-0004173351Poids de l'article \\u200f : \\u200e 201 g\"},{\"URL\":\"https:\\/\\/www.amazon.de\\/dp\\/000417805X\",\"Product Title\":\"Fantasie \\u00fcber den Choral 'Ein feste Burg ist unser Gott' op. 27 f\\u00fcr Orgel - Breitkopf Urtext (EB 8512) Paperback \\u2013 9 Aug. 1990\",\"Product Image URL\":\"https:\\/\\/images-eu.ssl-images-amazon.com\\/images\\/I\\/418j2w9CkKL._SY264_BO1,204,203,200_QL40_ML2_.jpg\",\"Product Price\":\"11.90\",\"Product Description\":\"Publisher \\u200f : \\u200e Breitkopf & H\\u00e4rtel (9 Aug. 1990) Language \\u200f : \\u200e GermanPaperback \\u200f : \\u200e 20 pagesISBN-10 \\u200f : \\u200e 000417805XISBN-13 \\u200f : \\u200e 978-0004178059\"},{\"URL\":\"https:\\/\\/www.amazon.fr\\/dp\\/000417805X\",\"Product Title\":\"Choralfantasie feste burg orgue Broch\\u00e9 \\u2013 1 janvier 2000\",\"Product Image URL\":\"https:\\/\\/images-eu.ssl-images-amazon.com\\/images\\/I\\/418j2w9CkKL._SY291_BO1,204,203,200_QL40_ML2_.jpg\",\"Product Price\":\"26.09\",\"Product Description\":\"\\u00c9diteur \\u200f : \\u200e BREITKOPF (1 janvier 2000) Langue \\u200f : \\u200e AllemandBroch\\u00e9 \\u200f : \\u200e 20 pagesISBN-10 \\u200f : \\u200e 000417805XISBN-13 \\u200f : \\u200e 978-0004178059Poids de l'article \\u200f : \\u200e 401 g\"},{\"URL\":\"https:\\/\\/www.amazon.de\\/dp\\/000417870X\",\"Product Title\":\"3 St\\u00fccke op. 142 f\\u00fcr Orgel - 1. Stimmen der Nacht - 2. Violalse mignonne - 3. Romantisch (EB 8584) Paperback \\u2013 31 Oct. 1991\",\"Product Image URL\":\"https:\\/\\/images-eu.ssl-images-amazon.com\\/images\\/I\\/51jcnDzKubL._SX198_BO1,204,203,200_QL40_ML2_.jpg\",\"Product Price\":\"13.90\",\"Product Description\":\"Publisher \\u200f : \\u200e Breitkopf & H\\u00e4rtel (31 Oct. 1991) Language \\u200f : \\u200e GermanPaperback \\u200f : \\u200e 24 pagesISBN-10 \\u200f : \\u200e 000417870XISBN-13 \\u200f : \\u200e 979-0004178706\"},{\"URL\":\"https:\\/\\/www.amazon.fr\\/dp\\/000417870X\",\"Product Title\":\"Stucke(3) op.142 orgue Broch\\u00e9 \\u2013 1 janvier 2000\",\"Product Image URL\":\"https:\\/\\/images-eu.ssl-images-amazon.com\\/images\\/I\\/51jcnDzKubL._SX218_BO1,204,203,200_QL40_ML2_.jpg\",\"Product Price\":\"18.15\",\"Product Description\":\"\\u00c9diteur \\u200f : \\u200e BREITKOPF (1 janvier 2000) Langue \\u200f : \\u200e AllemandBroch\\u00e9 \\u200f : \\u200e 24 pagesISBN-10 \\u200f : \\u200e 000417870XISBN-13 \\u200f : \\u200e 979-0004178706Poids de l'article \\u200f : \\u200e 401 g\"},{\"URL\":\"https:\\/\\/www.amazon.de\\/dp\\/000420736X\",\"Product Title\":\"L'ARLESIENNE-SUITE NR. 2 ORCHESTRE Paperback \\u2013 1 Jan. 2000\",\"Product Image URL\":\"https:\\/\\/images-eu.ssl-images-amazon.com\\/images\\/I\\/41ELX18MMVL._SX198_BO1,204,203,200_QL40_ML2_.jpg\",\"Product Price\":\"56.34\",\"Product Description\":\"Publisher \\u200f : \\u200e BREITKOPF (1 Jan. 2000) Language \\u200f : \\u200e FrenchISBN-10 \\u200f : \\u200e 000420736XISBN-13 \\u200f : \\u200e 979-0004207369\"},{\"URL\":\"https:\\/\\/www.amazon.fr\\/dp\\/000420736X\",\"Product Title\":\"L'arlesienne-suite nr. 2 orchestre Broch\\u00e9 \\u2013 1 janvier 2000\",\"Product Image URL\":\"https:\\/\\/images-eu.ssl-images-amazon.com\\/images\\/I\\/41ELX18MMVL._SX218_BO1,204,203,200_QL40_ML2_.jpg\",\"Product Price\":\"52.14\",\"Product Description\":\"\\u00c9diteur \\u200f : \\u200e BREITKOPF (1 janvier 2000) Langue \\u200f : \\u200e Fran\\u00e7aisISBN-10 \\u200f : \\u200e 000420736XISBN-13 \\u200f : \\u200e 979-0004207369Poids de l'article \\u200f : \\u200e 1 kg\"},{\"URL\":\"https:\\/\\/www.amazon.de\\/dp\\/000421143X\",\"Product Title\":\"EIN DEUTSCHES REQUIEM 2 KLAV Paperback \\u2013 1 Jan. 2000\",\"Product Image URL\":\"https:\\/\\/images-eu.ssl-images-amazon.com\\/images\\/I\\/41kvwEvPVpL._SX198_BO1,204,203,200_QL40_ML2_.jpg\",\"Product Price\":\"92.00\",\"Product Description\":\"Publisher \\u200f : \\u200e BREITKOPF (1 Jan. 2000) Language \\u200f : \\u200e FrenchISBN-10 \\u200f : \\u200e 000421143XISBN-13 \\u200f : \\u200e 979-0004211434\"},{\"URL\":\"https:\\/\\/www.amazon.fr\\/dp\\/000421143X\",\"Product Title\":\"Ein deutsches requiem 2 klav Broch\\u00e9 \\u2013 1 janvier 2000\",\"Product Image URL\":\"https:\\/\\/images-eu.ssl-images-amazon.com\\/images\\/I\\/41kvwEvPVpL._SX218_BO1,204,203,200_QL40_ML2_.jpg\",\"Product Price\":\"174.99\",\"Product Description\":\"\\u00c9diteur \\u200f : \\u200e BREITKOPF (1 janvier 2000) Langue \\u200f : \\u200e Fran\\u00e7aisISBN-10 \\u200f : \\u200e 000421143XISBN-13 \\u200f : \\u200e 979-0004211434Poids de l'article \\u200f : \\u200e 2.4 kg\"}]\n"
          ]
        }
      ]
    },
    {
      "cell_type": "code",
      "source": [
        "### Save output to a external file\n",
        "with open('Results/ouput.json', 'w', encoding = 'utf-8') as f:\n",
        "  json.dump(output, f, ensure_ascii = False, indent = 4)"
      ],
      "metadata": {
        "id": "BRieRyur970a"
      },
      "execution_count": null,
      "outputs": []
    },
    {
      "cell_type": "markdown",
      "source": [
        "### Connecting to Database"
      ],
      "metadata": {
        "id": "pXRKuQDz-LYc"
      }
    },
    {
      "cell_type": "markdown",
      "source": [
        "I've used `psycopg2` for this purpose. Same could be done using `sqlAlchemy`.\n",
        "<br>\n",
        "I've used `ElephantSQL` for the the purpose of this task. SInce it is free and provides `postgreSQL` it fit m requirements."
      ],
      "metadata": {
        "id": "AY5M4ogX-Roz"
      }
    },
    {
      "cell_type": "code",
      "source": [
        "import psycopg2\n",
        "import urllib.parse as up\n",
        "import numpy"
      ],
      "metadata": {
        "id": "uo2skA5--Gaj"
      },
      "execution_count": null,
      "outputs": []
    },
    {
      "cell_type": "code",
      "source": [
        "up.uses_netloc.append(\"postgres\")\n",
        "url = up.urlparse(\"CONNECTION STRING\")\n",
        "conn = psycopg2.connect(database = url.path[1:], user = url.username, password = url.password, host = url.hostname, port = url.port)"
      ],
      "metadata": {
        "id": "paTmIufy-QZD"
      },
      "execution_count": null,
      "outputs": []
    },
    {
      "cell_type": "code",
      "source": [
        "cur = conn.cursor()"
      ],
      "metadata": {
        "id": "yZs4q5Rs-rHI"
      },
      "execution_count": null,
      "outputs": []
    },
    {
      "cell_type": "code",
      "source": [
        "### Query to create a table\n",
        "cur.execute(\"CREATE TABLE amazonscraping (URL TEXT PRIMARY KEY, Title TEXT, Price TEXT, ImageURL TEXT, Description TEXT);\")"
      ],
      "metadata": {
        "id": "cQpXXVFD-tWH"
      },
      "execution_count": null,
      "outputs": []
    },
    {
      "cell_type": "code",
      "source": [
        "conn.commit()"
      ],
      "metadata": {
        "id": "nIXA772s-wSb"
      },
      "execution_count": null,
      "outputs": []
    },
    {
      "cell_type": "code",
      "source": [
        "### Function to dump data from df to DB.\n",
        "\n",
        "def insertIntoTable(table, df):\n",
        "  tuples = list(set([tuple(x) for x in df.to_numpy()]))\n",
        "  cols = ','.join(list(df.columns))\n",
        "  query = \"INSERT INTO %s(URL, Title, Price, ImageURL, Description) VALUES (%%s, %%s, %%s, %%s, %%s)\"  % (table)\n",
        "\n",
        "  try:\n",
        "    cur.executemany(query, tuples)\n",
        "    conn.commit()\n",
        "\n",
        "  except (Exception, psycopg2.DatabaseError) as error:\n",
        "    print(\"Error: %s\" %error)\n",
        "    conn.rollback()\n",
        "    return 1"
      ],
      "metadata": {
        "id": "U-EiHjPg-yVk"
      },
      "execution_count": null,
      "outputs": []
    },
    {
      "cell_type": "code",
      "source": [
        "insertIntoTable('amazonscraping', data)"
      ],
      "metadata": {
        "id": "Yskz6eIF-0Yi"
      },
      "execution_count": null,
      "outputs": []
    },
    {
      "cell_type": "markdown",
      "source": [
        "Below is the image showing the Data base with the data that I've scraped."
      ],
      "metadata": {
        "id": "ytbB90DY_S6y"
      }
    },
    {
      "cell_type": "markdown",
      "source": [
        "![image.png](data:image/png;base64,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)"
      ],
      "metadata": {
        "id": "pMbR11O7_ORq"
      }
    }
  ]
}